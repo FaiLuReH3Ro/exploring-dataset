{
 "cells": [
  {
   "cell_type": "markdown",
   "id": "d9535feb",
   "metadata": {
    "papermill": {
     "duration": 0.007912,
     "end_time": "2025-09-01T21:47:19.391885",
     "exception": false,
     "start_time": "2025-09-01T21:47:19.383973",
     "status": "completed"
    },
    "tags": []
   },
   "source": [
    "# **Data Wrangling**"
   ]
  },
  {
   "cell_type": "markdown",
   "id": "29d1c86a",
   "metadata": {
    "papermill": {
     "duration": 0.006649,
     "end_time": "2025-09-01T21:47:19.405780",
     "exception": false,
     "start_time": "2025-09-01T21:47:19.399131",
     "status": "completed"
    },
    "tags": [],
    "vscode": {
     "languageId": "plaintext"
    }
   },
   "source": [
    "## Repository\n",
    "\n",
    "Check out the repository on [GitHub](https://github.com/FaiLuReH3Ro/data-wrangling-py) for more details.\n"
   ]
  },
  {
   "cell_type": "markdown",
   "id": "5352b74a",
   "metadata": {
    "papermill": {
     "duration": 0.006725,
     "end_time": "2025-09-01T21:47:19.419271",
     "exception": false,
     "start_time": "2025-09-01T21:47:19.412546",
     "status": "completed"
    },
    "tags": []
   },
   "source": [
    "## Dataset Used\n",
    "\n",
    "[Stack Overflow Survey Data 2024 Subset](https://www.kaggle.com/datasets/failureh3ro/stack-overflow-survey-data-2024-subset/data)"
   ]
  },
  {
   "cell_type": "markdown",
   "id": "690ff070",
   "metadata": {
    "papermill": {
     "duration": 0.006848,
     "end_time": "2025-09-01T21:47:19.434138",
     "exception": false,
     "start_time": "2025-09-01T21:47:19.427290",
     "status": "completed"
    },
    "tags": [],
    "vscode": {
     "languageId": "latex"
    }
   },
   "source": [
    "## Objectives\n",
    "\n",
    "* Identify duplicate rows in the dataset\n",
    "* Remove duplicate rows and verify the removal \n",
    "* Find columns with missing values\n",
    "* Impute the missing values\n",
    "* Perform Data Normalizing for certain columns"
   ]
  },
  {
   "cell_type": "markdown",
   "id": "37a56e79",
   "metadata": {
    "papermill": {
     "duration": 0.0065,
     "end_time": "2025-09-01T21:47:19.447662",
     "exception": false,
     "start_time": "2025-09-01T21:47:19.441162",
     "status": "completed"
    },
    "tags": []
   },
   "source": [
    "## Download and Import Libraries"
   ]
  },
  {
   "cell_type": "code",
   "execution_count": 1,
   "id": "53631728",
   "metadata": {
    "execution": {
     "iopub.execute_input": "2025-09-01T21:47:19.463057Z",
     "iopub.status.busy": "2025-09-01T21:47:19.462744Z",
     "iopub.status.idle": "2025-09-01T21:47:19.467828Z",
     "shell.execute_reply": "2025-09-01T21:47:19.466888Z"
    },
    "papermill": {
     "duration": 0.015343,
     "end_time": "2025-09-01T21:47:19.469872",
     "exception": false,
     "start_time": "2025-09-01T21:47:19.454529",
     "status": "completed"
    },
    "tags": []
   },
   "outputs": [],
   "source": [
    "# Run this cell if the libraries are not installed yet\n",
    "# Uncomment the lines below to install\n",
    "# %pip install pandas\n",
    "# %pip install numpy"
   ]
  },
  {
   "cell_type": "code",
   "execution_count": 2,
   "id": "8d1713f7",
   "metadata": {
    "execution": {
     "iopub.execute_input": "2025-09-01T21:47:19.485921Z",
     "iopub.status.busy": "2025-09-01T21:47:19.484873Z",
     "iopub.status.idle": "2025-09-01T21:47:21.289924Z",
     "shell.execute_reply": "2025-09-01T21:47:21.289123Z"
    },
    "papermill": {
     "duration": 1.814477,
     "end_time": "2025-09-01T21:47:21.291598",
     "exception": false,
     "start_time": "2025-09-01T21:47:19.477121",
     "status": "completed"
    },
    "tags": []
   },
   "outputs": [],
   "source": [
    "# Importing the pandas and numpy libraries\n",
    "import pandas as pd\n",
    "import numpy as np\n",
    "\n",
    "# Suppress warnings\n",
    "# Comment before running to view warnings\n",
    "import warnings\n",
    "warnings.filterwarnings(\"ignore\")"
   ]
  },
  {
   "cell_type": "markdown",
   "id": "8695030c",
   "metadata": {
    "papermill": {
     "duration": 0.006366,
     "end_time": "2025-09-01T21:47:21.305060",
     "exception": false,
     "start_time": "2025-09-01T21:47:21.298694",
     "status": "completed"
    },
    "tags": []
   },
   "source": [
    "## Loading the Data"
   ]
  },
  {
   "cell_type": "code",
   "execution_count": 3,
   "id": "bbfcacad",
   "metadata": {
    "execution": {
     "iopub.execute_input": "2025-09-01T21:47:21.321416Z",
     "iopub.status.busy": "2025-09-01T21:47:21.321030Z",
     "iopub.status.idle": "2025-09-01T21:47:26.147190Z",
     "shell.execute_reply": "2025-09-01T21:47:26.146281Z"
    },
    "papermill": {
     "duration": 4.836446,
     "end_time": "2025-09-01T21:47:26.149755",
     "exception": false,
     "start_time": "2025-09-01T21:47:21.313309",
     "status": "completed"
    },
    "tags": []
   },
   "outputs": [
    {
     "data": {
      "text/html": [
       "<div>\n",
       "<style scoped>\n",
       "    .dataframe tbody tr th:only-of-type {\n",
       "        vertical-align: middle;\n",
       "    }\n",
       "\n",
       "    .dataframe tbody tr th {\n",
       "        vertical-align: top;\n",
       "    }\n",
       "\n",
       "    .dataframe thead th {\n",
       "        text-align: right;\n",
       "    }\n",
       "</style>\n",
       "<table border=\"1\" class=\"dataframe\">\n",
       "  <thead>\n",
       "    <tr style=\"text-align: right;\">\n",
       "      <th></th>\n",
       "      <th>ResponseId</th>\n",
       "      <th>MainBranch</th>\n",
       "      <th>Age</th>\n",
       "      <th>Employment</th>\n",
       "      <th>RemoteWork</th>\n",
       "      <th>Check</th>\n",
       "      <th>CodingActivities</th>\n",
       "      <th>EdLevel</th>\n",
       "      <th>LearnCode</th>\n",
       "      <th>LearnCodeOnline</th>\n",
       "      <th>TechDoc</th>\n",
       "      <th>YearsCode</th>\n",
       "      <th>YearsCodePro</th>\n",
       "      <th>DevType</th>\n",
       "      <th>OrgSize</th>\n",
       "      <th>PurchaseInfluence</th>\n",
       "      <th>BuyNewTool</th>\n",
       "      <th>BuildvsBuy</th>\n",
       "      <th>TechEndorse</th>\n",
       "      <th>Country</th>\n",
       "      <th>Currency</th>\n",
       "      <th>CompTotal</th>\n",
       "      <th>LanguageHaveWorkedWith</th>\n",
       "      <th>LanguageWantToWorkWith</th>\n",
       "      <th>LanguageAdmired</th>\n",
       "      <th>DatabaseHaveWorkedWith</th>\n",
       "      <th>DatabaseWantToWorkWith</th>\n",
       "      <th>DatabaseAdmired</th>\n",
       "      <th>PlatformHaveWorkedWith</th>\n",
       "      <th>PlatformWantToWorkWith</th>\n",
       "      <th>PlatformAdmired</th>\n",
       "      <th>WebframeHaveWorkedWith</th>\n",
       "      <th>WebframeWantToWorkWith</th>\n",
       "      <th>WebframeAdmired</th>\n",
       "      <th>EmbeddedHaveWorkedWith</th>\n",
       "      <th>EmbeddedWantToWorkWith</th>\n",
       "      <th>EmbeddedAdmired</th>\n",
       "      <th>MiscTechHaveWorkedWith</th>\n",
       "      <th>MiscTechWantToWorkWith</th>\n",
       "      <th>MiscTechAdmired</th>\n",
       "      <th>ToolsTechHaveWorkedWith</th>\n",
       "      <th>ToolsTechWantToWorkWith</th>\n",
       "      <th>ToolsTechAdmired</th>\n",
       "      <th>NEWCollabToolsHaveWorkedWith</th>\n",
       "      <th>NEWCollabToolsWantToWorkWith</th>\n",
       "      <th>NEWCollabToolsAdmired</th>\n",
       "      <th>OpSysPersonal use</th>\n",
       "      <th>OpSysProfessional use</th>\n",
       "      <th>OfficeStackAsyncHaveWorkedWith</th>\n",
       "      <th>OfficeStackAsyncWantToWorkWith</th>\n",
       "      <th>OfficeStackAsyncAdmired</th>\n",
       "      <th>OfficeStackSyncHaveWorkedWith</th>\n",
       "      <th>OfficeStackSyncWantToWorkWith</th>\n",
       "      <th>OfficeStackSyncAdmired</th>\n",
       "      <th>AISearchDevHaveWorkedWith</th>\n",
       "      <th>AISearchDevWantToWorkWith</th>\n",
       "      <th>AISearchDevAdmired</th>\n",
       "      <th>NEWSOSites</th>\n",
       "      <th>SOVisitFreq</th>\n",
       "      <th>SOAccount</th>\n",
       "      <th>SOPartFreq</th>\n",
       "      <th>SOHow</th>\n",
       "      <th>SOComm</th>\n",
       "      <th>AISelect</th>\n",
       "      <th>AISent</th>\n",
       "      <th>AIBen</th>\n",
       "      <th>AIAcc</th>\n",
       "      <th>AIComplex</th>\n",
       "      <th>AIToolCurrently Using</th>\n",
       "      <th>AIToolInterested in Using</th>\n",
       "      <th>AIToolNot interested in Using</th>\n",
       "      <th>AINextMuch more integrated</th>\n",
       "      <th>AINextNo change</th>\n",
       "      <th>AINextMore integrated</th>\n",
       "      <th>AINextLess integrated</th>\n",
       "      <th>AINextMuch less integrated</th>\n",
       "      <th>AIThreat</th>\n",
       "      <th>AIEthics</th>\n",
       "      <th>AIChallenges</th>\n",
       "      <th>TBranch</th>\n",
       "      <th>ICorPM</th>\n",
       "      <th>WorkExp</th>\n",
       "      <th>Knowledge_1</th>\n",
       "      <th>Knowledge_2</th>\n",
       "      <th>Knowledge_3</th>\n",
       "      <th>Knowledge_4</th>\n",
       "      <th>Knowledge_5</th>\n",
       "      <th>Knowledge_6</th>\n",
       "      <th>Knowledge_7</th>\n",
       "      <th>Knowledge_8</th>\n",
       "      <th>Knowledge_9</th>\n",
       "      <th>Frequency_1</th>\n",
       "      <th>Frequency_2</th>\n",
       "      <th>Frequency_3</th>\n",
       "      <th>TimeSearching</th>\n",
       "      <th>TimeAnswering</th>\n",
       "      <th>Frustration</th>\n",
       "      <th>ProfessionalTech</th>\n",
       "      <th>ProfessionalCloud</th>\n",
       "      <th>ProfessionalQuestion</th>\n",
       "      <th>Industry</th>\n",
       "      <th>JobSatPoints_1</th>\n",
       "      <th>JobSatPoints_4</th>\n",
       "      <th>JobSatPoints_5</th>\n",
       "      <th>JobSatPoints_6</th>\n",
       "      <th>JobSatPoints_7</th>\n",
       "      <th>JobSatPoints_8</th>\n",
       "      <th>JobSatPoints_9</th>\n",
       "      <th>JobSatPoints_10</th>\n",
       "      <th>JobSatPoints_11</th>\n",
       "      <th>SurveyLength</th>\n",
       "      <th>SurveyEase</th>\n",
       "      <th>ConvertedCompYearly</th>\n",
       "      <th>JobSat</th>\n",
       "    </tr>\n",
       "  </thead>\n",
       "  <tbody>\n",
       "    <tr>\n",
       "      <th>0</th>\n",
       "      <td>1</td>\n",
       "      <td>I am a developer by profession</td>\n",
       "      <td>Under 18 years old</td>\n",
       "      <td>Employed, full-time</td>\n",
       "      <td>Remote</td>\n",
       "      <td>Apples</td>\n",
       "      <td>Hobby</td>\n",
       "      <td>Primary/elementary school</td>\n",
       "      <td>Books / Physical media</td>\n",
       "      <td>NaN</td>\n",
       "      <td>NaN</td>\n",
       "      <td>NaN</td>\n",
       "      <td>NaN</td>\n",
       "      <td>NaN</td>\n",
       "      <td>NaN</td>\n",
       "      <td>NaN</td>\n",
       "      <td>NaN</td>\n",
       "      <td>NaN</td>\n",
       "      <td>NaN</td>\n",
       "      <td>United States of America</td>\n",
       "      <td>NaN</td>\n",
       "      <td>NaN</td>\n",
       "      <td>NaN</td>\n",
       "      <td>NaN</td>\n",
       "      <td>NaN</td>\n",
       "      <td>NaN</td>\n",
       "      <td>NaN</td>\n",
       "      <td>NaN</td>\n",
       "      <td>NaN</td>\n",
       "      <td>NaN</td>\n",
       "      <td>NaN</td>\n",
       "      <td>NaN</td>\n",
       "      <td>NaN</td>\n",
       "      <td>NaN</td>\n",
       "      <td>NaN</td>\n",
       "      <td>NaN</td>\n",
       "      <td>NaN</td>\n",
       "      <td>NaN</td>\n",
       "      <td>NaN</td>\n",
       "      <td>NaN</td>\n",
       "      <td>NaN</td>\n",
       "      <td>NaN</td>\n",
       "      <td>NaN</td>\n",
       "      <td>NaN</td>\n",
       "      <td>NaN</td>\n",
       "      <td>NaN</td>\n",
       "      <td>NaN</td>\n",
       "      <td>NaN</td>\n",
       "      <td>NaN</td>\n",
       "      <td>NaN</td>\n",
       "      <td>NaN</td>\n",
       "      <td>NaN</td>\n",
       "      <td>NaN</td>\n",
       "      <td>NaN</td>\n",
       "      <td>NaN</td>\n",
       "      <td>NaN</td>\n",
       "      <td>NaN</td>\n",
       "      <td>I have never visited Stack Overflow or the Sta...</td>\n",
       "      <td>NaN</td>\n",
       "      <td>NaN</td>\n",
       "      <td>NaN</td>\n",
       "      <td>NaN</td>\n",
       "      <td>NaN</td>\n",
       "      <td>Yes</td>\n",
       "      <td>Very favorable</td>\n",
       "      <td>Increase productivity</td>\n",
       "      <td>NaN</td>\n",
       "      <td>NaN</td>\n",
       "      <td>NaN</td>\n",
       "      <td>NaN</td>\n",
       "      <td>NaN</td>\n",
       "      <td>NaN</td>\n",
       "      <td>NaN</td>\n",
       "      <td>NaN</td>\n",
       "      <td>NaN</td>\n",
       "      <td>NaN</td>\n",
       "      <td>NaN</td>\n",
       "      <td>NaN</td>\n",
       "      <td>NaN</td>\n",
       "      <td>No</td>\n",
       "      <td>NaN</td>\n",
       "      <td>NaN</td>\n",
       "      <td>NaN</td>\n",
       "      <td>NaN</td>\n",
       "      <td>NaN</td>\n",
       "      <td>NaN</td>\n",
       "      <td>NaN</td>\n",
       "      <td>NaN</td>\n",
       "      <td>NaN</td>\n",
       "      <td>NaN</td>\n",
       "      <td>NaN</td>\n",
       "      <td>NaN</td>\n",
       "      <td>NaN</td>\n",
       "      <td>NaN</td>\n",
       "      <td>NaN</td>\n",
       "      <td>NaN</td>\n",
       "      <td>NaN</td>\n",
       "      <td>NaN</td>\n",
       "      <td>NaN</td>\n",
       "      <td>NaN</td>\n",
       "      <td>NaN</td>\n",
       "      <td>NaN</td>\n",
       "      <td>NaN</td>\n",
       "      <td>NaN</td>\n",
       "      <td>NaN</td>\n",
       "      <td>NaN</td>\n",
       "      <td>NaN</td>\n",
       "      <td>NaN</td>\n",
       "      <td>NaN</td>\n",
       "      <td>NaN</td>\n",
       "      <td>NaN</td>\n",
       "      <td>NaN</td>\n",
       "      <td>NaN</td>\n",
       "      <td>NaN</td>\n",
       "    </tr>\n",
       "    <tr>\n",
       "      <th>1</th>\n",
       "      <td>2</td>\n",
       "      <td>I am a developer by profession</td>\n",
       "      <td>35-44 years old</td>\n",
       "      <td>Employed, full-time</td>\n",
       "      <td>Remote</td>\n",
       "      <td>Apples</td>\n",
       "      <td>Hobby;Contribute to open-source projects;Other...</td>\n",
       "      <td>Bachelor’s degree (B.A., B.S., B.Eng., etc.)</td>\n",
       "      <td>Books / Physical media;Colleague;On the job tr...</td>\n",
       "      <td>Technical documentation;Blogs;Books;Written Tu...</td>\n",
       "      <td>API document(s) and/or SDK document(s);User gu...</td>\n",
       "      <td>20</td>\n",
       "      <td>17</td>\n",
       "      <td>Developer, full-stack</td>\n",
       "      <td>NaN</td>\n",
       "      <td>NaN</td>\n",
       "      <td>NaN</td>\n",
       "      <td>NaN</td>\n",
       "      <td>NaN</td>\n",
       "      <td>United Kingdom of Great Britain and Northern I...</td>\n",
       "      <td>NaN</td>\n",
       "      <td>NaN</td>\n",
       "      <td>Bash/Shell (all shells);Go;HTML/CSS;Java;JavaS...</td>\n",
       "      <td>Bash/Shell (all shells);Go;HTML/CSS;Java;JavaS...</td>\n",
       "      <td>Bash/Shell (all shells);Go;HTML/CSS;Java;JavaS...</td>\n",
       "      <td>Dynamodb;MongoDB;PostgreSQL</td>\n",
       "      <td>PostgreSQL</td>\n",
       "      <td>PostgreSQL</td>\n",
       "      <td>Amazon Web Services (AWS);Heroku;Netlify</td>\n",
       "      <td>Amazon Web Services (AWS);Heroku;Netlify</td>\n",
       "      <td>Amazon Web Services (AWS);Heroku;Netlify</td>\n",
       "      <td>Express;Next.js;Node.js;React</td>\n",
       "      <td>Express;Htmx;Node.js;React;Remix</td>\n",
       "      <td>Express;Node.js;React</td>\n",
       "      <td>NaN</td>\n",
       "      <td>NaN</td>\n",
       "      <td>NaN</td>\n",
       "      <td>NaN</td>\n",
       "      <td>NaN</td>\n",
       "      <td>NaN</td>\n",
       "      <td>Docker;Homebrew;Kubernetes;npm;Vite;Webpack</td>\n",
       "      <td>Docker;Homebrew;Kubernetes;npm;Vite;Webpack</td>\n",
       "      <td>Docker;Homebrew;Kubernetes;npm;Vite;Webpack</td>\n",
       "      <td>PyCharm;Visual Studio Code;WebStorm</td>\n",
       "      <td>PyCharm;Visual Studio Code;WebStorm</td>\n",
       "      <td>PyCharm;Visual Studio Code;WebStorm</td>\n",
       "      <td>MacOS;Windows</td>\n",
       "      <td>MacOS</td>\n",
       "      <td>NaN</td>\n",
       "      <td>NaN</td>\n",
       "      <td>NaN</td>\n",
       "      <td>Microsoft Teams;Slack</td>\n",
       "      <td>Slack</td>\n",
       "      <td>Slack</td>\n",
       "      <td>NaN</td>\n",
       "      <td>NaN</td>\n",
       "      <td>NaN</td>\n",
       "      <td>Stack Overflow for Teams (private knowledge sh...</td>\n",
       "      <td>Multiple times per day</td>\n",
       "      <td>Yes</td>\n",
       "      <td>Multiple times per day</td>\n",
       "      <td>Quickly finding code solutions;Finding reliabl...</td>\n",
       "      <td>Yes, definitely</td>\n",
       "      <td>No, and I don't plan to</td>\n",
       "      <td>NaN</td>\n",
       "      <td>NaN</td>\n",
       "      <td>NaN</td>\n",
       "      <td>NaN</td>\n",
       "      <td>NaN</td>\n",
       "      <td>NaN</td>\n",
       "      <td>NaN</td>\n",
       "      <td>NaN</td>\n",
       "      <td>NaN</td>\n",
       "      <td>NaN</td>\n",
       "      <td>NaN</td>\n",
       "      <td>NaN</td>\n",
       "      <td>NaN</td>\n",
       "      <td>NaN</td>\n",
       "      <td>NaN</td>\n",
       "      <td>Yes</td>\n",
       "      <td>Individual contributor</td>\n",
       "      <td>17.0</td>\n",
       "      <td>Agree</td>\n",
       "      <td>Disagree</td>\n",
       "      <td>Agree</td>\n",
       "      <td>Agree</td>\n",
       "      <td>Agree</td>\n",
       "      <td>Neither agree nor disagree</td>\n",
       "      <td>Disagree</td>\n",
       "      <td>Agree</td>\n",
       "      <td>Agree</td>\n",
       "      <td>NaN</td>\n",
       "      <td>NaN</td>\n",
       "      <td>NaN</td>\n",
       "      <td>NaN</td>\n",
       "      <td>NaN</td>\n",
       "      <td>NaN</td>\n",
       "      <td>NaN</td>\n",
       "      <td>NaN</td>\n",
       "      <td>NaN</td>\n",
       "      <td>NaN</td>\n",
       "      <td>0.0</td>\n",
       "      <td>0.0</td>\n",
       "      <td>0.0</td>\n",
       "      <td>0.0</td>\n",
       "      <td>0.0</td>\n",
       "      <td>0.0</td>\n",
       "      <td>0.0</td>\n",
       "      <td>0.0</td>\n",
       "      <td>0.0</td>\n",
       "      <td>NaN</td>\n",
       "      <td>NaN</td>\n",
       "      <td>NaN</td>\n",
       "      <td>NaN</td>\n",
       "    </tr>\n",
       "    <tr>\n",
       "      <th>2</th>\n",
       "      <td>3</td>\n",
       "      <td>I am a developer by profession</td>\n",
       "      <td>45-54 years old</td>\n",
       "      <td>Employed, full-time</td>\n",
       "      <td>Remote</td>\n",
       "      <td>Apples</td>\n",
       "      <td>Hobby;Contribute to open-source projects;Other...</td>\n",
       "      <td>Master’s degree (M.A., M.S., M.Eng., MBA, etc.)</td>\n",
       "      <td>Books / Physical media;Colleague;On the job tr...</td>\n",
       "      <td>Technical documentation;Blogs;Books;Written Tu...</td>\n",
       "      <td>API document(s) and/or SDK document(s);User gu...</td>\n",
       "      <td>37</td>\n",
       "      <td>27</td>\n",
       "      <td>Developer Experience</td>\n",
       "      <td>NaN</td>\n",
       "      <td>NaN</td>\n",
       "      <td>NaN</td>\n",
       "      <td>NaN</td>\n",
       "      <td>NaN</td>\n",
       "      <td>United Kingdom of Great Britain and Northern I...</td>\n",
       "      <td>NaN</td>\n",
       "      <td>NaN</td>\n",
       "      <td>C#</td>\n",
       "      <td>C#</td>\n",
       "      <td>C#</td>\n",
       "      <td>Firebase Realtime Database</td>\n",
       "      <td>Firebase Realtime Database</td>\n",
       "      <td>Firebase Realtime Database</td>\n",
       "      <td>Google Cloud</td>\n",
       "      <td>Google Cloud</td>\n",
       "      <td>Google Cloud</td>\n",
       "      <td>ASP.NET CORE</td>\n",
       "      <td>ASP.NET CORE</td>\n",
       "      <td>ASP.NET CORE</td>\n",
       "      <td>Rasberry Pi</td>\n",
       "      <td>Rasberry Pi</td>\n",
       "      <td>Rasberry Pi</td>\n",
       "      <td>.NET (5+) ;.NET Framework (1.0 - 4.8);.NET MAUI</td>\n",
       "      <td>.NET (5+) ;.NET Framework (1.0 - 4.8);.NET MAUI</td>\n",
       "      <td>.NET (5+) ;.NET Framework (1.0 - 4.8);.NET MAUI</td>\n",
       "      <td>MSBuild</td>\n",
       "      <td>MSBuild</td>\n",
       "      <td>MSBuild</td>\n",
       "      <td>Visual Studio</td>\n",
       "      <td>Visual Studio</td>\n",
       "      <td>Visual Studio</td>\n",
       "      <td>Windows</td>\n",
       "      <td>Windows</td>\n",
       "      <td>NaN</td>\n",
       "      <td>NaN</td>\n",
       "      <td>NaN</td>\n",
       "      <td>Google Chat;Google Meet;Microsoft Teams;Zoom</td>\n",
       "      <td>Google Chat;Google Meet;Zoom</td>\n",
       "      <td>Google Chat;Google Meet;Zoom</td>\n",
       "      <td>NaN</td>\n",
       "      <td>NaN</td>\n",
       "      <td>NaN</td>\n",
       "      <td>Stack Overflow;Stack Exchange;Stack Overflow B...</td>\n",
       "      <td>Multiple times per day</td>\n",
       "      <td>Yes</td>\n",
       "      <td>Multiple times per day</td>\n",
       "      <td>Quickly finding code solutions;Finding reliabl...</td>\n",
       "      <td>Yes, definitely</td>\n",
       "      <td>No, and I don't plan to</td>\n",
       "      <td>NaN</td>\n",
       "      <td>NaN</td>\n",
       "      <td>NaN</td>\n",
       "      <td>NaN</td>\n",
       "      <td>NaN</td>\n",
       "      <td>NaN</td>\n",
       "      <td>NaN</td>\n",
       "      <td>NaN</td>\n",
       "      <td>NaN</td>\n",
       "      <td>NaN</td>\n",
       "      <td>NaN</td>\n",
       "      <td>NaN</td>\n",
       "      <td>NaN</td>\n",
       "      <td>NaN</td>\n",
       "      <td>NaN</td>\n",
       "      <td>No</td>\n",
       "      <td>NaN</td>\n",
       "      <td>NaN</td>\n",
       "      <td>NaN</td>\n",
       "      <td>NaN</td>\n",
       "      <td>NaN</td>\n",
       "      <td>NaN</td>\n",
       "      <td>NaN</td>\n",
       "      <td>NaN</td>\n",
       "      <td>NaN</td>\n",
       "      <td>NaN</td>\n",
       "      <td>NaN</td>\n",
       "      <td>NaN</td>\n",
       "      <td>NaN</td>\n",
       "      <td>NaN</td>\n",
       "      <td>NaN</td>\n",
       "      <td>NaN</td>\n",
       "      <td>NaN</td>\n",
       "      <td>NaN</td>\n",
       "      <td>NaN</td>\n",
       "      <td>NaN</td>\n",
       "      <td>NaN</td>\n",
       "      <td>NaN</td>\n",
       "      <td>NaN</td>\n",
       "      <td>NaN</td>\n",
       "      <td>NaN</td>\n",
       "      <td>NaN</td>\n",
       "      <td>NaN</td>\n",
       "      <td>NaN</td>\n",
       "      <td>NaN</td>\n",
       "      <td>NaN</td>\n",
       "      <td>Appropriate in length</td>\n",
       "      <td>Easy</td>\n",
       "      <td>NaN</td>\n",
       "      <td>NaN</td>\n",
       "    </tr>\n",
       "    <tr>\n",
       "      <th>3</th>\n",
       "      <td>4</td>\n",
       "      <td>I am learning to code</td>\n",
       "      <td>18-24 years old</td>\n",
       "      <td>Student, full-time</td>\n",
       "      <td>NaN</td>\n",
       "      <td>Apples</td>\n",
       "      <td>NaN</td>\n",
       "      <td>Some college/university study without earning ...</td>\n",
       "      <td>Other online resources (e.g., videos, blogs, f...</td>\n",
       "      <td>Stack Overflow;How-to videos;Interactive tutorial</td>\n",
       "      <td>NaN</td>\n",
       "      <td>4</td>\n",
       "      <td>NaN</td>\n",
       "      <td>Developer, full-stack</td>\n",
       "      <td>NaN</td>\n",
       "      <td>NaN</td>\n",
       "      <td>NaN</td>\n",
       "      <td>NaN</td>\n",
       "      <td>NaN</td>\n",
       "      <td>Canada</td>\n",
       "      <td>NaN</td>\n",
       "      <td>NaN</td>\n",
       "      <td>C;C++;HTML/CSS;Java;JavaScript;PHP;PowerShell;...</td>\n",
       "      <td>HTML/CSS;Java;JavaScript;PowerShell;Python;SQL...</td>\n",
       "      <td>HTML/CSS;Java;JavaScript;PowerShell;Python;SQL...</td>\n",
       "      <td>MongoDB;MySQL;PostgreSQL;SQLite</td>\n",
       "      <td>MongoDB;MySQL;PostgreSQL</td>\n",
       "      <td>MongoDB;MySQL;PostgreSQL</td>\n",
       "      <td>Amazon Web Services (AWS);Fly.io;Heroku</td>\n",
       "      <td>Amazon Web Services (AWS);Vercel</td>\n",
       "      <td>Amazon Web Services (AWS)</td>\n",
       "      <td>jQuery;Next.js;Node.js;React;WordPress</td>\n",
       "      <td>jQuery;Next.js;Node.js;React</td>\n",
       "      <td>jQuery;Next.js;Node.js;React</td>\n",
       "      <td>Rasberry Pi</td>\n",
       "      <td>NaN</td>\n",
       "      <td>NaN</td>\n",
       "      <td>NumPy;Pandas;Ruff;TensorFlow</td>\n",
       "      <td>NaN</td>\n",
       "      <td>NaN</td>\n",
       "      <td>Docker;npm;Pip</td>\n",
       "      <td>Docker;Kubernetes;npm</td>\n",
       "      <td>Docker;npm</td>\n",
       "      <td>NaN</td>\n",
       "      <td>NaN</td>\n",
       "      <td>NaN</td>\n",
       "      <td>NaN</td>\n",
       "      <td>NaN</td>\n",
       "      <td>NaN</td>\n",
       "      <td>NaN</td>\n",
       "      <td>NaN</td>\n",
       "      <td>NaN</td>\n",
       "      <td>NaN</td>\n",
       "      <td>NaN</td>\n",
       "      <td>NaN</td>\n",
       "      <td>NaN</td>\n",
       "      <td>NaN</td>\n",
       "      <td>Stack Overflow</td>\n",
       "      <td>Daily or almost daily</td>\n",
       "      <td>No</td>\n",
       "      <td>NaN</td>\n",
       "      <td>Quickly finding code solutions</td>\n",
       "      <td>No, not really</td>\n",
       "      <td>Yes</td>\n",
       "      <td>Very favorable</td>\n",
       "      <td>Increase productivity;Greater efficiency;Impro...</td>\n",
       "      <td>Somewhat trust</td>\n",
       "      <td>Bad at handling complex tasks</td>\n",
       "      <td>Learning about a codebase;Project planning;Wri...</td>\n",
       "      <td>Testing code;Committing and reviewing code;Pre...</td>\n",
       "      <td>NaN</td>\n",
       "      <td>Learning about a codebase;Project planning;Wri...</td>\n",
       "      <td>NaN</td>\n",
       "      <td>NaN</td>\n",
       "      <td>NaN</td>\n",
       "      <td>NaN</td>\n",
       "      <td>No</td>\n",
       "      <td>Circulating misinformation or disinformation;M...</td>\n",
       "      <td>Don’t trust the output or answers</td>\n",
       "      <td>NaN</td>\n",
       "      <td>NaN</td>\n",
       "      <td>NaN</td>\n",
       "      <td>NaN</td>\n",
       "      <td>NaN</td>\n",
       "      <td>NaN</td>\n",
       "      <td>NaN</td>\n",
       "      <td>NaN</td>\n",
       "      <td>NaN</td>\n",
       "      <td>NaN</td>\n",
       "      <td>NaN</td>\n",
       "      <td>NaN</td>\n",
       "      <td>NaN</td>\n",
       "      <td>NaN</td>\n",
       "      <td>NaN</td>\n",
       "      <td>NaN</td>\n",
       "      <td>NaN</td>\n",
       "      <td>NaN</td>\n",
       "      <td>NaN</td>\n",
       "      <td>NaN</td>\n",
       "      <td>NaN</td>\n",
       "      <td>NaN</td>\n",
       "      <td>NaN</td>\n",
       "      <td>NaN</td>\n",
       "      <td>NaN</td>\n",
       "      <td>NaN</td>\n",
       "      <td>NaN</td>\n",
       "      <td>NaN</td>\n",
       "      <td>NaN</td>\n",
       "      <td>NaN</td>\n",
       "      <td>NaN</td>\n",
       "      <td>Too long</td>\n",
       "      <td>Easy</td>\n",
       "      <td>NaN</td>\n",
       "      <td>NaN</td>\n",
       "    </tr>\n",
       "    <tr>\n",
       "      <th>4</th>\n",
       "      <td>5</td>\n",
       "      <td>I am a developer by profession</td>\n",
       "      <td>18-24 years old</td>\n",
       "      <td>Student, full-time</td>\n",
       "      <td>NaN</td>\n",
       "      <td>Apples</td>\n",
       "      <td>NaN</td>\n",
       "      <td>Secondary school (e.g. American high school, G...</td>\n",
       "      <td>Other online resources (e.g., videos, blogs, f...</td>\n",
       "      <td>Technical documentation;Blogs;Written Tutorial...</td>\n",
       "      <td>API document(s) and/or SDK document(s);User gu...</td>\n",
       "      <td>9</td>\n",
       "      <td>NaN</td>\n",
       "      <td>Developer, full-stack</td>\n",
       "      <td>NaN</td>\n",
       "      <td>NaN</td>\n",
       "      <td>NaN</td>\n",
       "      <td>NaN</td>\n",
       "      <td>NaN</td>\n",
       "      <td>Norway</td>\n",
       "      <td>NaN</td>\n",
       "      <td>NaN</td>\n",
       "      <td>C++;HTML/CSS;JavaScript;Lua;Python;Rust</td>\n",
       "      <td>C++;HTML/CSS;JavaScript;Lua;Python</td>\n",
       "      <td>C++;HTML/CSS;JavaScript;Lua;Python</td>\n",
       "      <td>PostgreSQL;SQLite</td>\n",
       "      <td>PostgreSQL;SQLite</td>\n",
       "      <td>PostgreSQL;SQLite</td>\n",
       "      <td>NaN</td>\n",
       "      <td>NaN</td>\n",
       "      <td>NaN</td>\n",
       "      <td>NaN</td>\n",
       "      <td>NaN</td>\n",
       "      <td>NaN</td>\n",
       "      <td>CMake;Cargo;Rasberry Pi</td>\n",
       "      <td>CMake;Rasberry Pi</td>\n",
       "      <td>CMake;Rasberry Pi</td>\n",
       "      <td>NaN</td>\n",
       "      <td>NaN</td>\n",
       "      <td>NaN</td>\n",
       "      <td>APT;Make;npm</td>\n",
       "      <td>APT;Make</td>\n",
       "      <td>APT;Make</td>\n",
       "      <td>Vim</td>\n",
       "      <td>Vim</td>\n",
       "      <td>Vim</td>\n",
       "      <td>Other (please specify):</td>\n",
       "      <td>NaN</td>\n",
       "      <td>GitHub Discussions;Markdown File;Obsidian;Stac...</td>\n",
       "      <td>GitHub Discussions;Markdown File;Obsidian</td>\n",
       "      <td>GitHub Discussions;Markdown File;Obsidian</td>\n",
       "      <td>Discord;Whatsapp</td>\n",
       "      <td>Discord;Whatsapp</td>\n",
       "      <td>Discord;Whatsapp</td>\n",
       "      <td>NaN</td>\n",
       "      <td>NaN</td>\n",
       "      <td>NaN</td>\n",
       "      <td>Stack Overflow for Teams (private knowledge sh...</td>\n",
       "      <td>Multiple times per day</td>\n",
       "      <td>Yes</td>\n",
       "      <td>Multiple times per day</td>\n",
       "      <td>Quickly finding code solutions;Engage with com...</td>\n",
       "      <td>Yes, definitely</td>\n",
       "      <td>No, and I don't plan to</td>\n",
       "      <td>NaN</td>\n",
       "      <td>NaN</td>\n",
       "      <td>NaN</td>\n",
       "      <td>NaN</td>\n",
       "      <td>NaN</td>\n",
       "      <td>NaN</td>\n",
       "      <td>NaN</td>\n",
       "      <td>NaN</td>\n",
       "      <td>NaN</td>\n",
       "      <td>NaN</td>\n",
       "      <td>NaN</td>\n",
       "      <td>NaN</td>\n",
       "      <td>NaN</td>\n",
       "      <td>NaN</td>\n",
       "      <td>NaN</td>\n",
       "      <td>NaN</td>\n",
       "      <td>NaN</td>\n",
       "      <td>NaN</td>\n",
       "      <td>NaN</td>\n",
       "      <td>NaN</td>\n",
       "      <td>NaN</td>\n",
       "      <td>NaN</td>\n",
       "      <td>NaN</td>\n",
       "      <td>NaN</td>\n",
       "      <td>NaN</td>\n",
       "      <td>NaN</td>\n",
       "      <td>NaN</td>\n",
       "      <td>NaN</td>\n",
       "      <td>NaN</td>\n",
       "      <td>NaN</td>\n",
       "      <td>NaN</td>\n",
       "      <td>NaN</td>\n",
       "      <td>NaN</td>\n",
       "      <td>NaN</td>\n",
       "      <td>NaN</td>\n",
       "      <td>NaN</td>\n",
       "      <td>NaN</td>\n",
       "      <td>NaN</td>\n",
       "      <td>NaN</td>\n",
       "      <td>NaN</td>\n",
       "      <td>NaN</td>\n",
       "      <td>NaN</td>\n",
       "      <td>NaN</td>\n",
       "      <td>NaN</td>\n",
       "      <td>NaN</td>\n",
       "      <td>NaN</td>\n",
       "      <td>Too short</td>\n",
       "      <td>Easy</td>\n",
       "      <td>NaN</td>\n",
       "      <td>NaN</td>\n",
       "    </tr>\n",
       "  </tbody>\n",
       "</table>\n",
       "</div>"
      ],
      "text/plain": [
       "   ResponseId                      MainBranch                 Age  \\\n",
       "0           1  I am a developer by profession  Under 18 years old   \n",
       "1           2  I am a developer by profession     35-44 years old   \n",
       "2           3  I am a developer by profession     45-54 years old   \n",
       "3           4           I am learning to code     18-24 years old   \n",
       "4           5  I am a developer by profession     18-24 years old   \n",
       "\n",
       "            Employment RemoteWork   Check  \\\n",
       "0  Employed, full-time     Remote  Apples   \n",
       "1  Employed, full-time     Remote  Apples   \n",
       "2  Employed, full-time     Remote  Apples   \n",
       "3   Student, full-time        NaN  Apples   \n",
       "4   Student, full-time        NaN  Apples   \n",
       "\n",
       "                                    CodingActivities  \\\n",
       "0                                              Hobby   \n",
       "1  Hobby;Contribute to open-source projects;Other...   \n",
       "2  Hobby;Contribute to open-source projects;Other...   \n",
       "3                                                NaN   \n",
       "4                                                NaN   \n",
       "\n",
       "                                             EdLevel  \\\n",
       "0                          Primary/elementary school   \n",
       "1       Bachelor’s degree (B.A., B.S., B.Eng., etc.)   \n",
       "2    Master’s degree (M.A., M.S., M.Eng., MBA, etc.)   \n",
       "3  Some college/university study without earning ...   \n",
       "4  Secondary school (e.g. American high school, G...   \n",
       "\n",
       "                                           LearnCode  \\\n",
       "0                             Books / Physical media   \n",
       "1  Books / Physical media;Colleague;On the job tr...   \n",
       "2  Books / Physical media;Colleague;On the job tr...   \n",
       "3  Other online resources (e.g., videos, blogs, f...   \n",
       "4  Other online resources (e.g., videos, blogs, f...   \n",
       "\n",
       "                                     LearnCodeOnline  \\\n",
       "0                                                NaN   \n",
       "1  Technical documentation;Blogs;Books;Written Tu...   \n",
       "2  Technical documentation;Blogs;Books;Written Tu...   \n",
       "3  Stack Overflow;How-to videos;Interactive tutorial   \n",
       "4  Technical documentation;Blogs;Written Tutorial...   \n",
       "\n",
       "                                             TechDoc YearsCode YearsCodePro  \\\n",
       "0                                                NaN       NaN          NaN   \n",
       "1  API document(s) and/or SDK document(s);User gu...        20           17   \n",
       "2  API document(s) and/or SDK document(s);User gu...        37           27   \n",
       "3                                                NaN         4          NaN   \n",
       "4  API document(s) and/or SDK document(s);User gu...         9          NaN   \n",
       "\n",
       "                 DevType OrgSize PurchaseInfluence BuyNewTool BuildvsBuy  \\\n",
       "0                    NaN     NaN               NaN        NaN        NaN   \n",
       "1  Developer, full-stack     NaN               NaN        NaN        NaN   \n",
       "2   Developer Experience     NaN               NaN        NaN        NaN   \n",
       "3  Developer, full-stack     NaN               NaN        NaN        NaN   \n",
       "4  Developer, full-stack     NaN               NaN        NaN        NaN   \n",
       "\n",
       "  TechEndorse                                            Country Currency  \\\n",
       "0         NaN                           United States of America      NaN   \n",
       "1         NaN  United Kingdom of Great Britain and Northern I...      NaN   \n",
       "2         NaN  United Kingdom of Great Britain and Northern I...      NaN   \n",
       "3         NaN                                             Canada      NaN   \n",
       "4         NaN                                             Norway      NaN   \n",
       "\n",
       "   CompTotal                             LanguageHaveWorkedWith  \\\n",
       "0        NaN                                                NaN   \n",
       "1        NaN  Bash/Shell (all shells);Go;HTML/CSS;Java;JavaS...   \n",
       "2        NaN                                                 C#   \n",
       "3        NaN  C;C++;HTML/CSS;Java;JavaScript;PHP;PowerShell;...   \n",
       "4        NaN            C++;HTML/CSS;JavaScript;Lua;Python;Rust   \n",
       "\n",
       "                              LanguageWantToWorkWith  \\\n",
       "0                                                NaN   \n",
       "1  Bash/Shell (all shells);Go;HTML/CSS;Java;JavaS...   \n",
       "2                                                 C#   \n",
       "3  HTML/CSS;Java;JavaScript;PowerShell;Python;SQL...   \n",
       "4                 C++;HTML/CSS;JavaScript;Lua;Python   \n",
       "\n",
       "                                     LanguageAdmired  \\\n",
       "0                                                NaN   \n",
       "1  Bash/Shell (all shells);Go;HTML/CSS;Java;JavaS...   \n",
       "2                                                 C#   \n",
       "3  HTML/CSS;Java;JavaScript;PowerShell;Python;SQL...   \n",
       "4                 C++;HTML/CSS;JavaScript;Lua;Python   \n",
       "\n",
       "            DatabaseHaveWorkedWith      DatabaseWantToWorkWith  \\\n",
       "0                              NaN                         NaN   \n",
       "1      Dynamodb;MongoDB;PostgreSQL                  PostgreSQL   \n",
       "2       Firebase Realtime Database  Firebase Realtime Database   \n",
       "3  MongoDB;MySQL;PostgreSQL;SQLite    MongoDB;MySQL;PostgreSQL   \n",
       "4                PostgreSQL;SQLite           PostgreSQL;SQLite   \n",
       "\n",
       "              DatabaseAdmired                    PlatformHaveWorkedWith  \\\n",
       "0                         NaN                                       NaN   \n",
       "1                  PostgreSQL  Amazon Web Services (AWS);Heroku;Netlify   \n",
       "2  Firebase Realtime Database                              Google Cloud   \n",
       "3    MongoDB;MySQL;PostgreSQL   Amazon Web Services (AWS);Fly.io;Heroku   \n",
       "4           PostgreSQL;SQLite                                       NaN   \n",
       "\n",
       "                     PlatformWantToWorkWith  \\\n",
       "0                                       NaN   \n",
       "1  Amazon Web Services (AWS);Heroku;Netlify   \n",
       "2                              Google Cloud   \n",
       "3          Amazon Web Services (AWS);Vercel   \n",
       "4                                       NaN   \n",
       "\n",
       "                            PlatformAdmired  \\\n",
       "0                                       NaN   \n",
       "1  Amazon Web Services (AWS);Heroku;Netlify   \n",
       "2                              Google Cloud   \n",
       "3                 Amazon Web Services (AWS)   \n",
       "4                                       NaN   \n",
       "\n",
       "                   WebframeHaveWorkedWith            WebframeWantToWorkWith  \\\n",
       "0                                     NaN                               NaN   \n",
       "1           Express;Next.js;Node.js;React  Express;Htmx;Node.js;React;Remix   \n",
       "2                            ASP.NET CORE                      ASP.NET CORE   \n",
       "3  jQuery;Next.js;Node.js;React;WordPress      jQuery;Next.js;Node.js;React   \n",
       "4                                     NaN                               NaN   \n",
       "\n",
       "                WebframeAdmired   EmbeddedHaveWorkedWith  \\\n",
       "0                           NaN                      NaN   \n",
       "1         Express;Node.js;React                      NaN   \n",
       "2                  ASP.NET CORE              Rasberry Pi   \n",
       "3  jQuery;Next.js;Node.js;React              Rasberry Pi   \n",
       "4                           NaN  CMake;Cargo;Rasberry Pi   \n",
       "\n",
       "  EmbeddedWantToWorkWith    EmbeddedAdmired  \\\n",
       "0                    NaN                NaN   \n",
       "1                    NaN                NaN   \n",
       "2            Rasberry Pi        Rasberry Pi   \n",
       "3                    NaN                NaN   \n",
       "4      CMake;Rasberry Pi  CMake;Rasberry Pi   \n",
       "\n",
       "                            MiscTechHaveWorkedWith  \\\n",
       "0                                              NaN   \n",
       "1                                              NaN   \n",
       "2  .NET (5+) ;.NET Framework (1.0 - 4.8);.NET MAUI   \n",
       "3                     NumPy;Pandas;Ruff;TensorFlow   \n",
       "4                                              NaN   \n",
       "\n",
       "                            MiscTechWantToWorkWith  \\\n",
       "0                                              NaN   \n",
       "1                                              NaN   \n",
       "2  .NET (5+) ;.NET Framework (1.0 - 4.8);.NET MAUI   \n",
       "3                                              NaN   \n",
       "4                                              NaN   \n",
       "\n",
       "                                   MiscTechAdmired  \\\n",
       "0                                              NaN   \n",
       "1                                              NaN   \n",
       "2  .NET (5+) ;.NET Framework (1.0 - 4.8);.NET MAUI   \n",
       "3                                              NaN   \n",
       "4                                              NaN   \n",
       "\n",
       "                       ToolsTechHaveWorkedWith  \\\n",
       "0                                          NaN   \n",
       "1  Docker;Homebrew;Kubernetes;npm;Vite;Webpack   \n",
       "2                                      MSBuild   \n",
       "3                               Docker;npm;Pip   \n",
       "4                                 APT;Make;npm   \n",
       "\n",
       "                       ToolsTechWantToWorkWith  \\\n",
       "0                                          NaN   \n",
       "1  Docker;Homebrew;Kubernetes;npm;Vite;Webpack   \n",
       "2                                      MSBuild   \n",
       "3                        Docker;Kubernetes;npm   \n",
       "4                                     APT;Make   \n",
       "\n",
       "                              ToolsTechAdmired  \\\n",
       "0                                          NaN   \n",
       "1  Docker;Homebrew;Kubernetes;npm;Vite;Webpack   \n",
       "2                                      MSBuild   \n",
       "3                                   Docker;npm   \n",
       "4                                     APT;Make   \n",
       "\n",
       "          NEWCollabToolsHaveWorkedWith         NEWCollabToolsWantToWorkWith  \\\n",
       "0                                  NaN                                  NaN   \n",
       "1  PyCharm;Visual Studio Code;WebStorm  PyCharm;Visual Studio Code;WebStorm   \n",
       "2                        Visual Studio                        Visual Studio   \n",
       "3                                  NaN                                  NaN   \n",
       "4                                  Vim                                  Vim   \n",
       "\n",
       "                 NEWCollabToolsAdmired        OpSysPersonal use  \\\n",
       "0                                  NaN                      NaN   \n",
       "1  PyCharm;Visual Studio Code;WebStorm            MacOS;Windows   \n",
       "2                        Visual Studio                  Windows   \n",
       "3                                  NaN                      NaN   \n",
       "4                                  Vim  Other (please specify):   \n",
       "\n",
       "  OpSysProfessional use                     OfficeStackAsyncHaveWorkedWith  \\\n",
       "0                   NaN                                                NaN   \n",
       "1                 MacOS                                                NaN   \n",
       "2               Windows                                                NaN   \n",
       "3                   NaN                                                NaN   \n",
       "4                   NaN  GitHub Discussions;Markdown File;Obsidian;Stac...   \n",
       "\n",
       "              OfficeStackAsyncWantToWorkWith  \\\n",
       "0                                        NaN   \n",
       "1                                        NaN   \n",
       "2                                        NaN   \n",
       "3                                        NaN   \n",
       "4  GitHub Discussions;Markdown File;Obsidian   \n",
       "\n",
       "                     OfficeStackAsyncAdmired  \\\n",
       "0                                        NaN   \n",
       "1                                        NaN   \n",
       "2                                        NaN   \n",
       "3                                        NaN   \n",
       "4  GitHub Discussions;Markdown File;Obsidian   \n",
       "\n",
       "                  OfficeStackSyncHaveWorkedWith OfficeStackSyncWantToWorkWith  \\\n",
       "0                                           NaN                           NaN   \n",
       "1                         Microsoft Teams;Slack                         Slack   \n",
       "2  Google Chat;Google Meet;Microsoft Teams;Zoom  Google Chat;Google Meet;Zoom   \n",
       "3                                           NaN                           NaN   \n",
       "4                              Discord;Whatsapp              Discord;Whatsapp   \n",
       "\n",
       "         OfficeStackSyncAdmired AISearchDevHaveWorkedWith  \\\n",
       "0                           NaN                       NaN   \n",
       "1                         Slack                       NaN   \n",
       "2  Google Chat;Google Meet;Zoom                       NaN   \n",
       "3                           NaN                       NaN   \n",
       "4              Discord;Whatsapp                       NaN   \n",
       "\n",
       "  AISearchDevWantToWorkWith AISearchDevAdmired  \\\n",
       "0                       NaN                NaN   \n",
       "1                       NaN                NaN   \n",
       "2                       NaN                NaN   \n",
       "3                       NaN                NaN   \n",
       "4                       NaN                NaN   \n",
       "\n",
       "                                          NEWSOSites             SOVisitFreq  \\\n",
       "0  I have never visited Stack Overflow or the Sta...                     NaN   \n",
       "1  Stack Overflow for Teams (private knowledge sh...  Multiple times per day   \n",
       "2  Stack Overflow;Stack Exchange;Stack Overflow B...  Multiple times per day   \n",
       "3                                     Stack Overflow   Daily or almost daily   \n",
       "4  Stack Overflow for Teams (private knowledge sh...  Multiple times per day   \n",
       "\n",
       "  SOAccount              SOPartFreq  \\\n",
       "0       NaN                     NaN   \n",
       "1       Yes  Multiple times per day   \n",
       "2       Yes  Multiple times per day   \n",
       "3        No                     NaN   \n",
       "4       Yes  Multiple times per day   \n",
       "\n",
       "                                               SOHow           SOComm  \\\n",
       "0                                                NaN              NaN   \n",
       "1  Quickly finding code solutions;Finding reliabl...  Yes, definitely   \n",
       "2  Quickly finding code solutions;Finding reliabl...  Yes, definitely   \n",
       "3                     Quickly finding code solutions   No, not really   \n",
       "4  Quickly finding code solutions;Engage with com...  Yes, definitely   \n",
       "\n",
       "                  AISelect          AISent  \\\n",
       "0                      Yes  Very favorable   \n",
       "1  No, and I don't plan to             NaN   \n",
       "2  No, and I don't plan to             NaN   \n",
       "3                      Yes  Very favorable   \n",
       "4  No, and I don't plan to             NaN   \n",
       "\n",
       "                                               AIBen           AIAcc  \\\n",
       "0                              Increase productivity             NaN   \n",
       "1                                                NaN             NaN   \n",
       "2                                                NaN             NaN   \n",
       "3  Increase productivity;Greater efficiency;Impro...  Somewhat trust   \n",
       "4                                                NaN             NaN   \n",
       "\n",
       "                       AIComplex  \\\n",
       "0                            NaN   \n",
       "1                            NaN   \n",
       "2                            NaN   \n",
       "3  Bad at handling complex tasks   \n",
       "4                            NaN   \n",
       "\n",
       "                               AIToolCurrently Using  \\\n",
       "0                                                NaN   \n",
       "1                                                NaN   \n",
       "2                                                NaN   \n",
       "3  Learning about a codebase;Project planning;Wri...   \n",
       "4                                                NaN   \n",
       "\n",
       "                           AIToolInterested in Using  \\\n",
       "0                                                NaN   \n",
       "1                                                NaN   \n",
       "2                                                NaN   \n",
       "3  Testing code;Committing and reviewing code;Pre...   \n",
       "4                                                NaN   \n",
       "\n",
       "  AIToolNot interested in Using  \\\n",
       "0                           NaN   \n",
       "1                           NaN   \n",
       "2                           NaN   \n",
       "3                           NaN   \n",
       "4                           NaN   \n",
       "\n",
       "                          AINextMuch more integrated AINextNo change  \\\n",
       "0                                                NaN             NaN   \n",
       "1                                                NaN             NaN   \n",
       "2                                                NaN             NaN   \n",
       "3  Learning about a codebase;Project planning;Wri...             NaN   \n",
       "4                                                NaN             NaN   \n",
       "\n",
       "  AINextMore integrated AINextLess integrated AINextMuch less integrated  \\\n",
       "0                   NaN                   NaN                        NaN   \n",
       "1                   NaN                   NaN                        NaN   \n",
       "2                   NaN                   NaN                        NaN   \n",
       "3                   NaN                   NaN                        NaN   \n",
       "4                   NaN                   NaN                        NaN   \n",
       "\n",
       "  AIThreat                                           AIEthics  \\\n",
       "0      NaN                                                NaN   \n",
       "1      NaN                                                NaN   \n",
       "2      NaN                                                NaN   \n",
       "3       No  Circulating misinformation or disinformation;M...   \n",
       "4      NaN                                                NaN   \n",
       "\n",
       "                        AIChallenges TBranch                  ICorPM  WorkExp  \\\n",
       "0                                NaN      No                     NaN      NaN   \n",
       "1                                NaN     Yes  Individual contributor     17.0   \n",
       "2                                NaN      No                     NaN      NaN   \n",
       "3  Don’t trust the output or answers     NaN                     NaN      NaN   \n",
       "4                                NaN     NaN                     NaN      NaN   \n",
       "\n",
       "  Knowledge_1 Knowledge_2 Knowledge_3 Knowledge_4 Knowledge_5  \\\n",
       "0         NaN         NaN         NaN         NaN         NaN   \n",
       "1       Agree    Disagree       Agree       Agree       Agree   \n",
       "2         NaN         NaN         NaN         NaN         NaN   \n",
       "3         NaN         NaN         NaN         NaN         NaN   \n",
       "4         NaN         NaN         NaN         NaN         NaN   \n",
       "\n",
       "                  Knowledge_6 Knowledge_7 Knowledge_8 Knowledge_9 Frequency_1  \\\n",
       "0                         NaN         NaN         NaN         NaN         NaN   \n",
       "1  Neither agree nor disagree    Disagree       Agree       Agree         NaN   \n",
       "2                         NaN         NaN         NaN         NaN         NaN   \n",
       "3                         NaN         NaN         NaN         NaN         NaN   \n",
       "4                         NaN         NaN         NaN         NaN         NaN   \n",
       "\n",
       "  Frequency_2 Frequency_3 TimeSearching TimeAnswering Frustration  \\\n",
       "0         NaN         NaN           NaN           NaN         NaN   \n",
       "1         NaN         NaN           NaN           NaN         NaN   \n",
       "2         NaN         NaN           NaN           NaN         NaN   \n",
       "3         NaN         NaN           NaN           NaN         NaN   \n",
       "4         NaN         NaN           NaN           NaN         NaN   \n",
       "\n",
       "  ProfessionalTech ProfessionalCloud ProfessionalQuestion Industry  \\\n",
       "0              NaN               NaN                  NaN      NaN   \n",
       "1              NaN               NaN                  NaN      NaN   \n",
       "2              NaN               NaN                  NaN      NaN   \n",
       "3              NaN               NaN                  NaN      NaN   \n",
       "4              NaN               NaN                  NaN      NaN   \n",
       "\n",
       "   JobSatPoints_1  JobSatPoints_4  JobSatPoints_5  JobSatPoints_6  \\\n",
       "0             NaN             NaN             NaN             NaN   \n",
       "1             0.0             0.0             0.0             0.0   \n",
       "2             NaN             NaN             NaN             NaN   \n",
       "3             NaN             NaN             NaN             NaN   \n",
       "4             NaN             NaN             NaN             NaN   \n",
       "\n",
       "   JobSatPoints_7  JobSatPoints_8  JobSatPoints_9  JobSatPoints_10  \\\n",
       "0             NaN             NaN             NaN              NaN   \n",
       "1             0.0             0.0             0.0              0.0   \n",
       "2             NaN             NaN             NaN              NaN   \n",
       "3             NaN             NaN             NaN              NaN   \n",
       "4             NaN             NaN             NaN              NaN   \n",
       "\n",
       "   JobSatPoints_11           SurveyLength SurveyEase  ConvertedCompYearly  \\\n",
       "0              NaN                    NaN        NaN                  NaN   \n",
       "1              0.0                    NaN        NaN                  NaN   \n",
       "2              NaN  Appropriate in length       Easy                  NaN   \n",
       "3              NaN               Too long       Easy                  NaN   \n",
       "4              NaN              Too short       Easy                  NaN   \n",
       "\n",
       "   JobSat  \n",
       "0     NaN  \n",
       "1     NaN  \n",
       "2     NaN  \n",
       "3     NaN  \n",
       "4     NaN  "
      ]
     },
     "execution_count": 3,
     "metadata": {},
     "output_type": "execute_result"
    }
   ],
   "source": [
    "# Read the CSV file into a dataframe\n",
    "url = '/kaggle/input/stack-overflow-survey-data-2024-subset/survey_data.csv'\n",
    "data = pd.read_csv(url)\n",
    "\n",
    "# Options to display all rows and columns\n",
    "pd.set_option('display.max_rows', None)\n",
    "pd.set_option('display.max_columns', None)\n",
    "\n",
    "# Display the first five rows\n",
    "data.head()"
   ]
  },
  {
   "cell_type": "markdown",
   "id": "30382a1b",
   "metadata": {
    "papermill": {
     "duration": 0.007831,
     "end_time": "2025-09-01T21:47:26.166392",
     "exception": false,
     "start_time": "2025-09-01T21:47:26.158561",
     "status": "completed"
    },
    "tags": []
   },
   "source": [
    "## Handling Duplicate Rows"
   ]
  },
  {
   "cell_type": "markdown",
   "id": "ae279b18",
   "metadata": {
    "papermill": {
     "duration": 0.007854,
     "end_time": "2025-09-01T21:47:26.182756",
     "exception": false,
     "start_time": "2025-09-01T21:47:26.174902",
     "status": "completed"
    },
    "tags": []
   },
   "source": [
    "### Finding Duplicates"
   ]
  },
  {
   "cell_type": "code",
   "execution_count": 4,
   "id": "c702bbac",
   "metadata": {
    "execution": {
     "iopub.execute_input": "2025-09-01T21:47:26.200268Z",
     "iopub.status.busy": "2025-09-01T21:47:26.199966Z",
     "iopub.status.idle": "2025-09-01T21:47:26.952201Z",
     "shell.execute_reply": "2025-09-01T21:47:26.950924Z"
    },
    "papermill": {
     "duration": 0.763,
     "end_time": "2025-09-01T21:47:26.953902",
     "exception": false,
     "start_time": "2025-09-01T21:47:26.190902",
     "status": "completed"
    },
    "tags": []
   },
   "outputs": [
    {
     "name": "stdout",
     "output_type": "stream",
     "text": [
      "There are 0 duplicate rows\n"
     ]
    }
   ],
   "source": [
    "# Finding the number of duplicate rows\n",
    "dup_rows = data[data.duplicated()]\n",
    "num_dups = dup_rows.shape[0]\n",
    "print(f'There are {num_dups} duplicate rows')"
   ]
  },
  {
   "cell_type": "markdown",
   "id": "2c256ce4",
   "metadata": {
    "papermill": {
     "duration": 0.007845,
     "end_time": "2025-09-01T21:47:26.970161",
     "exception": false,
     "start_time": "2025-09-01T21:47:26.962316",
     "status": "completed"
    },
    "tags": []
   },
   "source": [
    "### Removing Duplicates"
   ]
  },
  {
   "cell_type": "code",
   "execution_count": 5,
   "id": "719bd998",
   "metadata": {
    "execution": {
     "iopub.execute_input": "2025-09-01T21:47:26.987442Z",
     "iopub.status.busy": "2025-09-01T21:47:26.987153Z",
     "iopub.status.idle": "2025-09-01T21:47:28.385418Z",
     "shell.execute_reply": "2025-09-01T21:47:28.384339Z"
    },
    "papermill": {
     "duration": 1.408833,
     "end_time": "2025-09-01T21:47:28.386992",
     "exception": false,
     "start_time": "2025-09-01T21:47:26.978159",
     "status": "completed"
    },
    "tags": []
   },
   "outputs": [
    {
     "name": "stdout",
     "output_type": "stream",
     "text": [
      "There are 0 duplicate rows\n"
     ]
    }
   ],
   "source": [
    "# Removing the duplicate rows and verifying\n",
    "df = data.drop_duplicates()\n",
    "num_dups = df[df.duplicated()].shape[0]\n",
    "print(f'There are {num_dups} duplicate rows')"
   ]
  },
  {
   "cell_type": "markdown",
   "id": "815986cb",
   "metadata": {
    "papermill": {
     "duration": 0.007877,
     "end_time": "2025-09-01T21:47:28.403169",
     "exception": false,
     "start_time": "2025-09-01T21:47:28.395292",
     "status": "completed"
    },
    "tags": []
   },
   "source": [
    "## Handling Missing Values"
   ]
  },
  {
   "cell_type": "markdown",
   "id": "53f4926f",
   "metadata": {
    "papermill": {
     "duration": 0.083057,
     "end_time": "2025-09-01T21:47:28.494240",
     "exception": false,
     "start_time": "2025-09-01T21:47:28.411183",
     "status": "completed"
    },
    "tags": []
   },
   "source": [
    "### Finding Missing Values"
   ]
  },
  {
   "cell_type": "code",
   "execution_count": 6,
   "id": "25499355",
   "metadata": {
    "execution": {
     "iopub.execute_input": "2025-09-01T21:47:28.518031Z",
     "iopub.status.busy": "2025-09-01T21:47:28.517616Z",
     "iopub.status.idle": "2025-09-01T21:47:28.846610Z",
     "shell.execute_reply": "2025-09-01T21:47:28.845660Z"
    },
    "papermill": {
     "duration": 0.345537,
     "end_time": "2025-09-01T21:47:28.848801",
     "exception": false,
     "start_time": "2025-09-01T21:47:28.503264",
     "status": "completed"
    },
    "tags": []
   },
   "outputs": [
    {
     "name": "stdout",
     "output_type": "stream",
     "text": [
      "<class 'pandas.core.frame.DataFrame'>\n",
      "RangeIndex: 65437 entries, 0 to 65436\n",
      "Data columns (total 114 columns):\n",
      " #    Column                          Non-Null Count  Dtype  \n",
      "---   ------                          --------------  -----  \n",
      " 0    ResponseId                      65437 non-null  int64  \n",
      " 1    MainBranch                      65437 non-null  object \n",
      " 2    Age                             65437 non-null  object \n",
      " 3    Employment                      65437 non-null  object \n",
      " 4    RemoteWork                      54806 non-null  object \n",
      " 5    Check                           65437 non-null  object \n",
      " 6    CodingActivities                54466 non-null  object \n",
      " 7    EdLevel                         60784 non-null  object \n",
      " 8    LearnCode                       60488 non-null  object \n",
      " 9    LearnCodeOnline                 49237 non-null  object \n",
      " 10   TechDoc                         40897 non-null  object \n",
      " 11   YearsCode                       59869 non-null  object \n",
      " 12   YearsCodePro                    51610 non-null  object \n",
      " 13   DevType                         59445 non-null  object \n",
      " 14   OrgSize                         47480 non-null  object \n",
      " 15   PurchaseInfluence               47406 non-null  object \n",
      " 16   BuyNewTool                      45181 non-null  object \n",
      " 17   BuildvsBuy                      43358 non-null  object \n",
      " 18   TechEndorse                     43668 non-null  object \n",
      " 19   Country                         58930 non-null  object \n",
      " 20   Currency                        46684 non-null  object \n",
      " 21   CompTotal                       33740 non-null  float64\n",
      " 22   LanguageHaveWorkedWith          59745 non-null  object \n",
      " 23   LanguageWantToWorkWith          55752 non-null  object \n",
      " 24   LanguageAdmired                 50872 non-null  object \n",
      " 25   DatabaseHaveWorkedWith          50254 non-null  object \n",
      " 26   DatabaseWantToWorkWith          42558 non-null  object \n",
      " 27   DatabaseAdmired                 38557 non-null  object \n",
      " 28   PlatformHaveWorkedWith          42366 non-null  object \n",
      " 29   PlatformWantToWorkWith          34532 non-null  object \n",
      " 30   PlatformAdmired                 31377 non-null  object \n",
      " 31   WebframeHaveWorkedWith          45161 non-null  object \n",
      " 32   WebframeWantToWorkWith          38535 non-null  object \n",
      " 33   WebframeAdmired                 34943 non-null  object \n",
      " 34   EmbeddedHaveWorkedWith          22214 non-null  object \n",
      " 35   EmbeddedWantToWorkWith          17600 non-null  object \n",
      " 36   EmbeddedAdmired                 16733 non-null  object \n",
      " 37   MiscTechHaveWorkedWith          39443 non-null  object \n",
      " 38   MiscTechWantToWorkWith          32964 non-null  object \n",
      " 39   MiscTechAdmired                 29596 non-null  object \n",
      " 40   ToolsTechHaveWorkedWith         52482 non-null  object \n",
      " 41   ToolsTechWantToWorkWith         46084 non-null  object \n",
      " 42   ToolsTechAdmired                43997 non-null  object \n",
      " 43   NEWCollabToolsHaveWorkedWith    57592 non-null  object \n",
      " 44   NEWCollabToolsWantToWorkWith    52087 non-null  object \n",
      " 45   NEWCollabToolsAdmired           50711 non-null  object \n",
      " 46   OpSysPersonal use               58174 non-null  object \n",
      " 47   OpSysProfessional use           52973 non-null  object \n",
      " 48   OfficeStackAsyncHaveWorkedWith  48093 non-null  object \n",
      " 49   OfficeStackAsyncWantToWorkWith  38966 non-null  object \n",
      " 50   OfficeStackAsyncAdmired         37204 non-null  object \n",
      " 51   OfficeStackSyncHaveWorkedWith   55545 non-null  object \n",
      " 52   OfficeStackSyncWantToWorkWith   46711 non-null  object \n",
      " 53   OfficeStackSyncAdmired          44712 non-null  object \n",
      " 54   AISearchDevHaveWorkedWith       44453 non-null  object \n",
      " 55   AISearchDevWantToWorkWith       36701 non-null  object \n",
      " 56   AISearchDevAdmired              35543 non-null  object \n",
      " 57   NEWSOSites                      60286 non-null  object \n",
      " 58   SOVisitFreq                     59536 non-null  object \n",
      " 59   SOAccount                       59560 non-null  object \n",
      " 60   SOPartFreq                      45237 non-null  object \n",
      " 61   SOHow                           58962 non-null  object \n",
      " 62   SOComm                          59163 non-null  object \n",
      " 63   AISelect                        60907 non-null  object \n",
      " 64   AISent                          45873 non-null  object \n",
      " 65   AIBen                           36894 non-null  object \n",
      " 66   AIAcc                           37302 non-null  object \n",
      " 67   AIComplex                       37021 non-null  object \n",
      " 68   AIToolCurrently Using           35072 non-null  object \n",
      " 69   AIToolInterested in Using       30691 non-null  object \n",
      " 70   AIToolNot interested in Using   24414 non-null  object \n",
      " 71   AINextMuch more integrated      13438 non-null  object \n",
      " 72   AINextNo change                 12498 non-null  object \n",
      " 73   AINextMore integrated           24428 non-null  object \n",
      " 74   AINextLess integrated           2355 non-null   object \n",
      " 75   AINextMuch less integrated      1148 non-null   object \n",
      " 76   AIThreat                        44689 non-null  object \n",
      " 77   AIEthics                        41548 non-null  object \n",
      " 78   AIChallenges                    37531 non-null  object \n",
      " 79   TBranch                         44477 non-null  object \n",
      " 80   ICorPM                          29801 non-null  object \n",
      " 81   WorkExp                         29658 non-null  float64\n",
      " 82   Knowledge_1                     28664 non-null  object \n",
      " 83   Knowledge_2                     28021 non-null  object \n",
      " 84   Knowledge_3                     28095 non-null  object \n",
      " 85   Knowledge_4                     28030 non-null  object \n",
      " 86   Knowledge_5                     27880 non-null  object \n",
      " 87   Knowledge_6                     27864 non-null  object \n",
      " 88   Knowledge_7                     27778 non-null  object \n",
      " 89   Knowledge_8                     27758 non-null  object \n",
      " 90   Knowledge_9                     27635 non-null  object \n",
      " 91   Frequency_1                     28369 non-null  object \n",
      " 92   Frequency_2                     28364 non-null  object \n",
      " 93   Frequency_3                     27710 non-null  object \n",
      " 94   TimeSearching                   28911 non-null  object \n",
      " 95   TimeAnswering                   28844 non-null  object \n",
      " 96   Frustration                     28251 non-null  object \n",
      " 97   ProfessionalTech                27764 non-null  object \n",
      " 98   ProfessionalCloud               28491 non-null  object \n",
      " 99   ProfessionalQuestion            28807 non-null  object \n",
      " 100  Industry                        28858 non-null  object \n",
      " 101  JobSatPoints_1                  29324 non-null  float64\n",
      " 102  JobSatPoints_4                  29393 non-null  float64\n",
      " 103  JobSatPoints_5                  29411 non-null  float64\n",
      " 104  JobSatPoints_6                  29450 non-null  float64\n",
      " 105  JobSatPoints_7                  29448 non-null  float64\n",
      " 106  JobSatPoints_8                  29456 non-null  float64\n",
      " 107  JobSatPoints_9                  29456 non-null  float64\n",
      " 108  JobSatPoints_10                 29450 non-null  float64\n",
      " 109  JobSatPoints_11                 29445 non-null  float64\n",
      " 110  SurveyLength                    56182 non-null  object \n",
      " 111  SurveyEase                      56238 non-null  object \n",
      " 112  ConvertedCompYearly             23435 non-null  float64\n",
      " 113  JobSat                          29126 non-null  float64\n",
      "dtypes: float64(13), int64(1), object(100)\n",
      "memory usage: 56.9+ MB\n"
     ]
    }
   ],
   "source": [
    "# This method displays the non-null counts for each column\n",
    "# The total rows is 65437 \n",
    "# Every column with less than the total row count means it has missing values \n",
    "df.info(verbose=True, show_counts=True)"
   ]
  },
  {
   "cell_type": "code",
   "execution_count": 7,
   "id": "65749eaa",
   "metadata": {
    "execution": {
     "iopub.execute_input": "2025-09-01T21:47:28.867499Z",
     "iopub.status.busy": "2025-09-01T21:47:28.867170Z",
     "iopub.status.idle": "2025-09-01T21:47:29.182653Z",
     "shell.execute_reply": "2025-09-01T21:47:29.181520Z"
    },
    "papermill": {
     "duration": 0.326888,
     "end_time": "2025-09-01T21:47:29.184571",
     "exception": false,
     "start_time": "2025-09-01T21:47:28.857683",
     "status": "completed"
    },
    "tags": []
   },
   "outputs": [
    {
     "data": {
      "text/plain": [
       "AINextMuch less integrated    64289\n",
       "AINextLess integrated         63082\n",
       "AINextNo change               52939\n",
       "AINextMuch more integrated    51999\n",
       "EmbeddedAdmired               48704\n",
       "dtype: int64"
      ]
     },
     "execution_count": 7,
     "metadata": {},
     "output_type": "execute_result"
    }
   ],
   "source": [
    "# This find the top 5 columns with the most missing values\n",
    "df.isnull().sum().sort_values(ascending = False).head()"
   ]
  },
  {
   "cell_type": "markdown",
   "id": "044d232c",
   "metadata": {
    "papermill": {
     "duration": 0.008557,
     "end_time": "2025-09-01T21:47:29.201868",
     "exception": false,
     "start_time": "2025-09-01T21:47:29.193311",
     "status": "completed"
    },
    "tags": []
   },
   "source": [
    "### Droping Rows Based on Objective\n",
    "\n",
    "Our original goal is to find data about the technologies. In that case, the most important columns are `LanguageHaveWorkedWith`, `LanguageWantToWorkWith`, `DatabaseHaveWorkedWith`,`DatabaseWantToWorkWith`, `PlatformHaveWorkedWith`, `PlatformWantToWorkWith`, `WebframeHaveWorkedWith`, `WebframeWantToWorkWith`, `ToolsTechHaveWorkedWith`, `ToolsTechWantToWorkWith`, `NEWCollabToolsHaveWorkedWith`, `NEWCollabToolsWantToWorkWith`. \n",
    "\n",
    "To get the most accurate date, it is best not to replace the missing values with the most frequent because that would skew the data. Here, I will find how many missing values are in these columns."
   ]
  },
  {
   "cell_type": "code",
   "execution_count": 8,
   "id": "1eac58c4",
   "metadata": {
    "execution": {
     "iopub.execute_input": "2025-09-01T21:47:29.220342Z",
     "iopub.status.busy": "2025-09-01T21:47:29.220056Z",
     "iopub.status.idle": "2025-09-01T21:47:29.279882Z",
     "shell.execute_reply": "2025-09-01T21:47:29.278746Z"
    },
    "papermill": {
     "duration": 0.071159,
     "end_time": "2025-09-01T21:47:29.281518",
     "exception": false,
     "start_time": "2025-09-01T21:47:29.210359",
     "status": "completed"
    },
    "scrolled": true,
    "tags": []
   },
   "outputs": [
    {
     "name": "stdout",
     "output_type": "stream",
     "text": [
      "LanguageHaveWorkedWith\n",
      "False    59745\n",
      "True      5692\n",
      "Name: count, dtype: int64\n",
      "\n",
      "LanguageWantToWorkWith\n",
      "False    55752\n",
      "True      9685\n",
      "Name: count, dtype: int64\n",
      "\n",
      "DatabaseHaveWorkedWith\n",
      "False    50254\n",
      "True     15183\n",
      "Name: count, dtype: int64\n",
      "\n",
      "DatabaseWantToWorkWith\n",
      "False    42558\n",
      "True     22879\n",
      "Name: count, dtype: int64\n",
      "\n",
      "PlatformHaveWorkedWith\n",
      "False    42366\n",
      "True     23071\n",
      "Name: count, dtype: int64\n",
      "\n",
      "PlatformWantToWorkWith\n",
      "False    34532\n",
      "True     30905\n",
      "Name: count, dtype: int64\n",
      "\n",
      "WebframeHaveWorkedWith\n",
      "False    45161\n",
      "True     20276\n",
      "Name: count, dtype: int64\n",
      "\n",
      "WebframeWantToWorkWith\n",
      "False    38535\n",
      "True     26902\n",
      "Name: count, dtype: int64\n",
      "\n",
      "ToolsTechHaveWorkedWith\n",
      "False    52482\n",
      "True     12955\n",
      "Name: count, dtype: int64\n",
      "\n",
      "ToolsTechWantToWorkWith\n",
      "False    46084\n",
      "True     19353\n",
      "Name: count, dtype: int64\n",
      "\n",
      "NEWCollabToolsHaveWorkedWith\n",
      "False    57592\n",
      "True      7845\n",
      "Name: count, dtype: int64\n",
      "\n",
      "NEWCollabToolsWantToWorkWith\n",
      "False    52087\n",
      "True     13350\n",
      "Name: count, dtype: int64\n",
      "\n"
     ]
    }
   ],
   "source": [
    "target_columns = ['LanguageHaveWorkedWith', 'LanguageWantToWorkWith', 'DatabaseHaveWorkedWith', \n",
    "                  'DatabaseWantToWorkWith', 'PlatformHaveWorkedWith', 'PlatformWantToWorkWith', \n",
    "                  'WebframeHaveWorkedWith', 'WebframeWantToWorkWith', 'ToolsTechHaveWorkedWith',\n",
    "                  'ToolsTechWantToWorkWith', 'NEWCollabToolsHaveWorkedWith', 'NEWCollabToolsWantToWorkWith']\n",
    "\n",
    "for column in target_columns:\n",
    "    print(df[column].isnull().value_counts())\n",
    "    print(\"\")"
   ]
  },
  {
   "cell_type": "markdown",
   "id": "d33bccf2",
   "metadata": {
    "papermill": {
     "duration": 0.008438,
     "end_time": "2025-09-01T21:47:29.298998",
     "exception": false,
     "start_time": "2025-09-01T21:47:29.290560",
     "status": "completed"
    },
    "tags": []
   },
   "source": [
    "To not remove an excessive amount of data, I will drop the rows with the least amount of NaN values. Based on that, it seems like the `LanguageHaveWorkedWith` column has the least.                          "
   ]
  },
  {
   "cell_type": "code",
   "execution_count": 9,
   "id": "13ddccaa",
   "metadata": {
    "execution": {
     "iopub.execute_input": "2025-09-01T21:47:29.317831Z",
     "iopub.status.busy": "2025-09-01T21:47:29.317445Z",
     "iopub.status.idle": "2025-09-01T21:47:29.420079Z",
     "shell.execute_reply": "2025-09-01T21:47:29.418622Z"
    },
    "papermill": {
     "duration": 0.114094,
     "end_time": "2025-09-01T21:47:29.421834",
     "exception": false,
     "start_time": "2025-09-01T21:47:29.307740",
     "status": "completed"
    },
    "tags": []
   },
   "outputs": [],
   "source": [
    "# This will drop rows based only on the LanguageHaveWorkedWith column\n",
    "df.dropna(subset=['LanguageHaveWorkedWith'], inplace = True)"
   ]
  },
  {
   "cell_type": "code",
   "execution_count": 10,
   "id": "f4415008",
   "metadata": {
    "execution": {
     "iopub.execute_input": "2025-09-01T21:47:29.441615Z",
     "iopub.status.busy": "2025-09-01T21:47:29.441305Z",
     "iopub.status.idle": "2025-09-01T21:47:29.451647Z",
     "shell.execute_reply": "2025-09-01T21:47:29.450967Z"
    },
    "papermill": {
     "duration": 0.021852,
     "end_time": "2025-09-01T21:47:29.452965",
     "exception": false,
     "start_time": "2025-09-01T21:47:29.431113",
     "status": "completed"
    },
    "tags": []
   },
   "outputs": [
    {
     "data": {
      "text/plain": [
       "LanguageHaveWorkedWith\n",
       "False    59745\n",
       "Name: count, dtype: int64"
      ]
     },
     "execution_count": 10,
     "metadata": {},
     "output_type": "execute_result"
    }
   ],
   "source": [
    "# Verify the process\n",
    "df['LanguageHaveWorkedWith'].isnull().value_counts()"
   ]
  },
  {
   "cell_type": "markdown",
   "id": "8fe20b41",
   "metadata": {
    "papermill": {
     "duration": 0.008817,
     "end_time": "2025-09-01T21:47:29.470954",
     "exception": false,
     "start_time": "2025-09-01T21:47:29.462137",
     "status": "completed"
    },
    "tags": []
   },
   "source": [
    "## Dropping Columns Based on Objective\n",
    "\n",
    "There are many columns that I don't need in order to answer my questions. Therefore, I should only include relevant columns. This will also make the dataset smaller as well and easier to load."
   ]
  },
  {
   "cell_type": "code",
   "execution_count": 11,
   "id": "458546ba",
   "metadata": {
    "execution": {
     "iopub.execute_input": "2025-09-01T21:47:29.490126Z",
     "iopub.status.busy": "2025-09-01T21:47:29.489788Z",
     "iopub.status.idle": "2025-09-01T21:47:29.524333Z",
     "shell.execute_reply": "2025-09-01T21:47:29.523320Z"
    },
    "papermill": {
     "duration": 0.046197,
     "end_time": "2025-09-01T21:47:29.526127",
     "exception": false,
     "start_time": "2025-09-01T21:47:29.479930",
     "status": "completed"
    },
    "tags": []
   },
   "outputs": [],
   "source": [
    "df = df[['ResponseId', 'MainBranch', 'Age', 'Employment', 'RemoteWork', 'EdLevel', 'YearsCode',\n",
    "         'YearsCodePro', 'DevType', 'Country', 'CompTotal', 'LanguageHaveWorkedWith', \n",
    "         'LanguageWantToWorkWith', 'DatabaseHaveWorkedWith', 'DatabaseWantToWorkWith', \n",
    "         'PlatformHaveWorkedWith', 'PlatformWantToWorkWith', 'WebframeHaveWorkedWith', \n",
    "         'WebframeWantToWorkWith', 'ToolsTechHaveWorkedWith', 'ToolsTechWantToWorkWith', \n",
    "         'NEWCollabToolsHaveWorkedWith', 'NEWCollabToolsWantToWorkWith', 'WorkExp', 'ConvertedCompYearly',\n",
    "         'JobSat']]"
   ]
  },
  {
   "cell_type": "code",
   "execution_count": 12,
   "id": "ce5209b5",
   "metadata": {
    "execution": {
     "iopub.execute_input": "2025-09-01T21:47:29.545439Z",
     "iopub.status.busy": "2025-09-01T21:47:29.545161Z",
     "iopub.status.idle": "2025-09-01T21:47:29.564614Z",
     "shell.execute_reply": "2025-09-01T21:47:29.563709Z"
    },
    "papermill": {
     "duration": 0.030688,
     "end_time": "2025-09-01T21:47:29.566033",
     "exception": false,
     "start_time": "2025-09-01T21:47:29.535345",
     "status": "completed"
    },
    "tags": []
   },
   "outputs": [
    {
     "data": {
      "text/html": [
       "<div>\n",
       "<style scoped>\n",
       "    .dataframe tbody tr th:only-of-type {\n",
       "        vertical-align: middle;\n",
       "    }\n",
       "\n",
       "    .dataframe tbody tr th {\n",
       "        vertical-align: top;\n",
       "    }\n",
       "\n",
       "    .dataframe thead th {\n",
       "        text-align: right;\n",
       "    }\n",
       "</style>\n",
       "<table border=\"1\" class=\"dataframe\">\n",
       "  <thead>\n",
       "    <tr style=\"text-align: right;\">\n",
       "      <th></th>\n",
       "      <th>ResponseId</th>\n",
       "      <th>MainBranch</th>\n",
       "      <th>Age</th>\n",
       "      <th>Employment</th>\n",
       "      <th>RemoteWork</th>\n",
       "      <th>EdLevel</th>\n",
       "      <th>YearsCode</th>\n",
       "      <th>YearsCodePro</th>\n",
       "      <th>DevType</th>\n",
       "      <th>Country</th>\n",
       "      <th>CompTotal</th>\n",
       "      <th>LanguageHaveWorkedWith</th>\n",
       "      <th>LanguageWantToWorkWith</th>\n",
       "      <th>DatabaseHaveWorkedWith</th>\n",
       "      <th>DatabaseWantToWorkWith</th>\n",
       "      <th>PlatformHaveWorkedWith</th>\n",
       "      <th>PlatformWantToWorkWith</th>\n",
       "      <th>WebframeHaveWorkedWith</th>\n",
       "      <th>WebframeWantToWorkWith</th>\n",
       "      <th>ToolsTechHaveWorkedWith</th>\n",
       "      <th>ToolsTechWantToWorkWith</th>\n",
       "      <th>NEWCollabToolsHaveWorkedWith</th>\n",
       "      <th>NEWCollabToolsWantToWorkWith</th>\n",
       "      <th>WorkExp</th>\n",
       "      <th>ConvertedCompYearly</th>\n",
       "      <th>JobSat</th>\n",
       "    </tr>\n",
       "  </thead>\n",
       "  <tbody>\n",
       "    <tr>\n",
       "      <th>1</th>\n",
       "      <td>2</td>\n",
       "      <td>I am a developer by profession</td>\n",
       "      <td>35-44 years old</td>\n",
       "      <td>Employed, full-time</td>\n",
       "      <td>Remote</td>\n",
       "      <td>Bachelor’s degree (B.A., B.S., B.Eng., etc.)</td>\n",
       "      <td>20</td>\n",
       "      <td>17</td>\n",
       "      <td>Developer, full-stack</td>\n",
       "      <td>United Kingdom of Great Britain and Northern I...</td>\n",
       "      <td>NaN</td>\n",
       "      <td>Bash/Shell (all shells);Go;HTML/CSS;Java;JavaS...</td>\n",
       "      <td>Bash/Shell (all shells);Go;HTML/CSS;Java;JavaS...</td>\n",
       "      <td>Dynamodb;MongoDB;PostgreSQL</td>\n",
       "      <td>PostgreSQL</td>\n",
       "      <td>Amazon Web Services (AWS);Heroku;Netlify</td>\n",
       "      <td>Amazon Web Services (AWS);Heroku;Netlify</td>\n",
       "      <td>Express;Next.js;Node.js;React</td>\n",
       "      <td>Express;Htmx;Node.js;React;Remix</td>\n",
       "      <td>Docker;Homebrew;Kubernetes;npm;Vite;Webpack</td>\n",
       "      <td>Docker;Homebrew;Kubernetes;npm;Vite;Webpack</td>\n",
       "      <td>PyCharm;Visual Studio Code;WebStorm</td>\n",
       "      <td>PyCharm;Visual Studio Code;WebStorm</td>\n",
       "      <td>17.0</td>\n",
       "      <td>NaN</td>\n",
       "      <td>NaN</td>\n",
       "    </tr>\n",
       "    <tr>\n",
       "      <th>2</th>\n",
       "      <td>3</td>\n",
       "      <td>I am a developer by profession</td>\n",
       "      <td>45-54 years old</td>\n",
       "      <td>Employed, full-time</td>\n",
       "      <td>Remote</td>\n",
       "      <td>Master’s degree (M.A., M.S., M.Eng., MBA, etc.)</td>\n",
       "      <td>37</td>\n",
       "      <td>27</td>\n",
       "      <td>Developer Experience</td>\n",
       "      <td>United Kingdom of Great Britain and Northern I...</td>\n",
       "      <td>NaN</td>\n",
       "      <td>C#</td>\n",
       "      <td>C#</td>\n",
       "      <td>Firebase Realtime Database</td>\n",
       "      <td>Firebase Realtime Database</td>\n",
       "      <td>Google Cloud</td>\n",
       "      <td>Google Cloud</td>\n",
       "      <td>ASP.NET CORE</td>\n",
       "      <td>ASP.NET CORE</td>\n",
       "      <td>MSBuild</td>\n",
       "      <td>MSBuild</td>\n",
       "      <td>Visual Studio</td>\n",
       "      <td>Visual Studio</td>\n",
       "      <td>NaN</td>\n",
       "      <td>NaN</td>\n",
       "      <td>NaN</td>\n",
       "    </tr>\n",
       "    <tr>\n",
       "      <th>3</th>\n",
       "      <td>4</td>\n",
       "      <td>I am learning to code</td>\n",
       "      <td>18-24 years old</td>\n",
       "      <td>Student, full-time</td>\n",
       "      <td>NaN</td>\n",
       "      <td>Some college/university study without earning ...</td>\n",
       "      <td>4</td>\n",
       "      <td>NaN</td>\n",
       "      <td>Developer, full-stack</td>\n",
       "      <td>Canada</td>\n",
       "      <td>NaN</td>\n",
       "      <td>C;C++;HTML/CSS;Java;JavaScript;PHP;PowerShell;...</td>\n",
       "      <td>HTML/CSS;Java;JavaScript;PowerShell;Python;SQL...</td>\n",
       "      <td>MongoDB;MySQL;PostgreSQL;SQLite</td>\n",
       "      <td>MongoDB;MySQL;PostgreSQL</td>\n",
       "      <td>Amazon Web Services (AWS);Fly.io;Heroku</td>\n",
       "      <td>Amazon Web Services (AWS);Vercel</td>\n",
       "      <td>jQuery;Next.js;Node.js;React;WordPress</td>\n",
       "      <td>jQuery;Next.js;Node.js;React</td>\n",
       "      <td>Docker;npm;Pip</td>\n",
       "      <td>Docker;Kubernetes;npm</td>\n",
       "      <td>NaN</td>\n",
       "      <td>NaN</td>\n",
       "      <td>NaN</td>\n",
       "      <td>NaN</td>\n",
       "      <td>NaN</td>\n",
       "    </tr>\n",
       "    <tr>\n",
       "      <th>4</th>\n",
       "      <td>5</td>\n",
       "      <td>I am a developer by profession</td>\n",
       "      <td>18-24 years old</td>\n",
       "      <td>Student, full-time</td>\n",
       "      <td>NaN</td>\n",
       "      <td>Secondary school (e.g. American high school, G...</td>\n",
       "      <td>9</td>\n",
       "      <td>NaN</td>\n",
       "      <td>Developer, full-stack</td>\n",
       "      <td>Norway</td>\n",
       "      <td>NaN</td>\n",
       "      <td>C++;HTML/CSS;JavaScript;Lua;Python;Rust</td>\n",
       "      <td>C++;HTML/CSS;JavaScript;Lua;Python</td>\n",
       "      <td>PostgreSQL;SQLite</td>\n",
       "      <td>PostgreSQL;SQLite</td>\n",
       "      <td>NaN</td>\n",
       "      <td>NaN</td>\n",
       "      <td>NaN</td>\n",
       "      <td>NaN</td>\n",
       "      <td>APT;Make;npm</td>\n",
       "      <td>APT;Make</td>\n",
       "      <td>Vim</td>\n",
       "      <td>Vim</td>\n",
       "      <td>NaN</td>\n",
       "      <td>NaN</td>\n",
       "      <td>NaN</td>\n",
       "    </tr>\n",
       "    <tr>\n",
       "      <th>5</th>\n",
       "      <td>6</td>\n",
       "      <td>I code primarily as a hobby</td>\n",
       "      <td>Under 18 years old</td>\n",
       "      <td>Student, full-time</td>\n",
       "      <td>NaN</td>\n",
       "      <td>Primary/elementary school</td>\n",
       "      <td>10</td>\n",
       "      <td>NaN</td>\n",
       "      <td>Student</td>\n",
       "      <td>United States of America</td>\n",
       "      <td>NaN</td>\n",
       "      <td>Bash/Shell (all shells);HTML/CSS;Java;JavaScri...</td>\n",
       "      <td>Bash/Shell (all shells);HTML/CSS;Java;JavaScri...</td>\n",
       "      <td>Cloud Firestore</td>\n",
       "      <td>Cloud Firestore</td>\n",
       "      <td>Cloudflare</td>\n",
       "      <td>Cloudflare</td>\n",
       "      <td>Node.js</td>\n",
       "      <td>Node.js</td>\n",
       "      <td>Docker;Homebrew;npm;Pip;pnpm</td>\n",
       "      <td>Homebrew;npm;Pip;pnpm</td>\n",
       "      <td>Nano;Vim;Visual Studio Code;Xcode</td>\n",
       "      <td>Nano;Vim;Visual Studio Code;Xcode</td>\n",
       "      <td>NaN</td>\n",
       "      <td>NaN</td>\n",
       "      <td>NaN</td>\n",
       "    </tr>\n",
       "  </tbody>\n",
       "</table>\n",
       "</div>"
      ],
      "text/plain": [
       "   ResponseId                      MainBranch                 Age  \\\n",
       "1           2  I am a developer by profession     35-44 years old   \n",
       "2           3  I am a developer by profession     45-54 years old   \n",
       "3           4           I am learning to code     18-24 years old   \n",
       "4           5  I am a developer by profession     18-24 years old   \n",
       "5           6     I code primarily as a hobby  Under 18 years old   \n",
       "\n",
       "            Employment RemoteWork  \\\n",
       "1  Employed, full-time     Remote   \n",
       "2  Employed, full-time     Remote   \n",
       "3   Student, full-time        NaN   \n",
       "4   Student, full-time        NaN   \n",
       "5   Student, full-time        NaN   \n",
       "\n",
       "                                             EdLevel YearsCode YearsCodePro  \\\n",
       "1       Bachelor’s degree (B.A., B.S., B.Eng., etc.)        20           17   \n",
       "2    Master’s degree (M.A., M.S., M.Eng., MBA, etc.)        37           27   \n",
       "3  Some college/university study without earning ...         4          NaN   \n",
       "4  Secondary school (e.g. American high school, G...         9          NaN   \n",
       "5                          Primary/elementary school        10          NaN   \n",
       "\n",
       "                 DevType                                            Country  \\\n",
       "1  Developer, full-stack  United Kingdom of Great Britain and Northern I...   \n",
       "2   Developer Experience  United Kingdom of Great Britain and Northern I...   \n",
       "3  Developer, full-stack                                             Canada   \n",
       "4  Developer, full-stack                                             Norway   \n",
       "5                Student                           United States of America   \n",
       "\n",
       "   CompTotal                             LanguageHaveWorkedWith  \\\n",
       "1        NaN  Bash/Shell (all shells);Go;HTML/CSS;Java;JavaS...   \n",
       "2        NaN                                                 C#   \n",
       "3        NaN  C;C++;HTML/CSS;Java;JavaScript;PHP;PowerShell;...   \n",
       "4        NaN            C++;HTML/CSS;JavaScript;Lua;Python;Rust   \n",
       "5        NaN  Bash/Shell (all shells);HTML/CSS;Java;JavaScri...   \n",
       "\n",
       "                              LanguageWantToWorkWith  \\\n",
       "1  Bash/Shell (all shells);Go;HTML/CSS;Java;JavaS...   \n",
       "2                                                 C#   \n",
       "3  HTML/CSS;Java;JavaScript;PowerShell;Python;SQL...   \n",
       "4                 C++;HTML/CSS;JavaScript;Lua;Python   \n",
       "5  Bash/Shell (all shells);HTML/CSS;Java;JavaScri...   \n",
       "\n",
       "            DatabaseHaveWorkedWith      DatabaseWantToWorkWith  \\\n",
       "1      Dynamodb;MongoDB;PostgreSQL                  PostgreSQL   \n",
       "2       Firebase Realtime Database  Firebase Realtime Database   \n",
       "3  MongoDB;MySQL;PostgreSQL;SQLite    MongoDB;MySQL;PostgreSQL   \n",
       "4                PostgreSQL;SQLite           PostgreSQL;SQLite   \n",
       "5                  Cloud Firestore             Cloud Firestore   \n",
       "\n",
       "                     PlatformHaveWorkedWith  \\\n",
       "1  Amazon Web Services (AWS);Heroku;Netlify   \n",
       "2                              Google Cloud   \n",
       "3   Amazon Web Services (AWS);Fly.io;Heroku   \n",
       "4                                       NaN   \n",
       "5                                Cloudflare   \n",
       "\n",
       "                     PlatformWantToWorkWith  \\\n",
       "1  Amazon Web Services (AWS);Heroku;Netlify   \n",
       "2                              Google Cloud   \n",
       "3          Amazon Web Services (AWS);Vercel   \n",
       "4                                       NaN   \n",
       "5                                Cloudflare   \n",
       "\n",
       "                   WebframeHaveWorkedWith            WebframeWantToWorkWith  \\\n",
       "1           Express;Next.js;Node.js;React  Express;Htmx;Node.js;React;Remix   \n",
       "2                            ASP.NET CORE                      ASP.NET CORE   \n",
       "3  jQuery;Next.js;Node.js;React;WordPress      jQuery;Next.js;Node.js;React   \n",
       "4                                     NaN                               NaN   \n",
       "5                                 Node.js                           Node.js   \n",
       "\n",
       "                       ToolsTechHaveWorkedWith  \\\n",
       "1  Docker;Homebrew;Kubernetes;npm;Vite;Webpack   \n",
       "2                                      MSBuild   \n",
       "3                               Docker;npm;Pip   \n",
       "4                                 APT;Make;npm   \n",
       "5                 Docker;Homebrew;npm;Pip;pnpm   \n",
       "\n",
       "                       ToolsTechWantToWorkWith  \\\n",
       "1  Docker;Homebrew;Kubernetes;npm;Vite;Webpack   \n",
       "2                                      MSBuild   \n",
       "3                        Docker;Kubernetes;npm   \n",
       "4                                     APT;Make   \n",
       "5                        Homebrew;npm;Pip;pnpm   \n",
       "\n",
       "          NEWCollabToolsHaveWorkedWith         NEWCollabToolsWantToWorkWith  \\\n",
       "1  PyCharm;Visual Studio Code;WebStorm  PyCharm;Visual Studio Code;WebStorm   \n",
       "2                        Visual Studio                        Visual Studio   \n",
       "3                                  NaN                                  NaN   \n",
       "4                                  Vim                                  Vim   \n",
       "5    Nano;Vim;Visual Studio Code;Xcode    Nano;Vim;Visual Studio Code;Xcode   \n",
       "\n",
       "   WorkExp  ConvertedCompYearly  JobSat  \n",
       "1     17.0                  NaN     NaN  \n",
       "2      NaN                  NaN     NaN  \n",
       "3      NaN                  NaN     NaN  \n",
       "4      NaN                  NaN     NaN  \n",
       "5      NaN                  NaN     NaN  "
      ]
     },
     "execution_count": 12,
     "metadata": {},
     "output_type": "execute_result"
    }
   ],
   "source": [
    "df.head()"
   ]
  },
  {
   "cell_type": "markdown",
   "id": "5208c29f",
   "metadata": {
    "papermill": {
     "duration": 0.009106,
     "end_time": "2025-09-01T21:47:29.584627",
     "exception": false,
     "start_time": "2025-09-01T21:47:29.575521",
     "status": "completed"
    },
    "tags": []
   },
   "source": [
    "### Imputing Missing Values in Numeric Columns"
   ]
  },
  {
   "cell_type": "markdown",
   "id": "5e0f2072",
   "metadata": {
    "papermill": {
     "duration": 0.009247,
     "end_time": "2025-09-01T21:47:29.603148",
     "exception": false,
     "start_time": "2025-09-01T21:47:29.593901",
     "status": "completed"
    },
    "tags": []
   },
   "source": [
    "> Note: Since there are over 50% of missing values in some of the columns, I will not impute values for those columns. I will just leave the NaN values there for now."
   ]
  },
  {
   "cell_type": "markdown",
   "id": "cfc2c65a",
   "metadata": {
    "papermill": {
     "duration": 0.009001,
     "end_time": "2025-09-01T21:47:29.621594",
     "exception": false,
     "start_time": "2025-09-01T21:47:29.612593",
     "status": "completed"
    },
    "tags": []
   },
   "source": [
    "#### YearsCode Column\n",
    "\n",
    "Since the `YearsCode` column has a dtype of 'object', I will convert it to 'float' for imputing the average years. "
   ]
  },
  {
   "cell_type": "code",
   "execution_count": 13,
   "id": "f04492e8",
   "metadata": {
    "execution": {
     "iopub.execute_input": "2025-09-01T21:47:29.641170Z",
     "iopub.status.busy": "2025-09-01T21:47:29.640874Z",
     "iopub.status.idle": "2025-09-01T21:47:29.665423Z",
     "shell.execute_reply": "2025-09-01T21:47:29.664637Z"
    },
    "papermill": {
     "duration": 0.036347,
     "end_time": "2025-09-01T21:47:29.667118",
     "exception": false,
     "start_time": "2025-09-01T21:47:29.630771",
     "status": "completed"
    },
    "tags": []
   },
   "outputs": [],
   "source": [
    "# Method 1 - fillna\n",
    "\n",
    "# Replacing the strings to a number\n",
    "df['YearsCode'].replace('Less than 1 year', '0', inplace = True)\n",
    "df['YearsCode'].replace('More than 50 years', '50', inplace = True)\n",
    "df['YearsCode'] = df['YearsCode'].astype(float)\n",
    "\n",
    "# Replace NaN values with the average\n",
    "avg_years = round(df['YearsCode'].mean(), 0)\n",
    "df['YearsCode'].fillna(avg_years, inplace = True)"
   ]
  },
  {
   "cell_type": "code",
   "execution_count": 14,
   "id": "6eb58f96",
   "metadata": {
    "execution": {
     "iopub.execute_input": "2025-09-01T21:47:29.687693Z",
     "iopub.status.busy": "2025-09-01T21:47:29.687371Z",
     "iopub.status.idle": "2025-09-01T21:47:29.694648Z",
     "shell.execute_reply": "2025-09-01T21:47:29.693868Z"
    },
    "papermill": {
     "duration": 0.01903,
     "end_time": "2025-09-01T21:47:29.695945",
     "exception": false,
     "start_time": "2025-09-01T21:47:29.676915",
     "status": "completed"
    },
    "tags": []
   },
   "outputs": [
    {
     "data": {
      "text/plain": [
       "YearsCode\n",
       "False    59745\n",
       "Name: count, dtype: int64"
      ]
     },
     "execution_count": 14,
     "metadata": {},
     "output_type": "execute_result"
    }
   ],
   "source": [
    "# Verify the imputation\n",
    "df['YearsCode'].isnull().value_counts()"
   ]
  },
  {
   "cell_type": "markdown",
   "id": "7dc3e327",
   "metadata": {
    "papermill": {
     "duration": 0.009971,
     "end_time": "2025-09-01T21:47:29.715766",
     "exception": false,
     "start_time": "2025-09-01T21:47:29.705795",
     "status": "completed"
    },
    "tags": []
   },
   "source": [
    "#### YearsCodePro Column\n",
    "\n",
    "The same thing applies to the `YearsCodePro` column. I will also convert it to 'float'."
   ]
  },
  {
   "cell_type": "code",
   "execution_count": 15,
   "id": "cd100022",
   "metadata": {
    "execution": {
     "iopub.execute_input": "2025-09-01T21:47:29.736565Z",
     "iopub.status.busy": "2025-09-01T21:47:29.736245Z",
     "iopub.status.idle": "2025-09-01T21:47:29.761241Z",
     "shell.execute_reply": "2025-09-01T21:47:29.760363Z"
    },
    "papermill": {
     "duration": 0.037323,
     "end_time": "2025-09-01T21:47:29.762961",
     "exception": false,
     "start_time": "2025-09-01T21:47:29.725638",
     "status": "completed"
    },
    "tags": []
   },
   "outputs": [],
   "source": [
    "# Method 2 - replace\n",
    "\n",
    "# Replacing the strings to a number\n",
    "df['YearsCodePro'].replace('Less than 1 year', '0', inplace = True)\n",
    "df['YearsCodePro'].replace('More than 50 years', '50', inplace = True)\n",
    "df['YearsCodePro'] = df['YearsCodePro'].astype(float)\n",
    "\n",
    "# Replace NaN values with the average\n",
    "avg_years = round(df['YearsCodePro'].mean(), 0)\n",
    "df['YearsCodePro'].fillna(avg_years, inplace = True)"
   ]
  },
  {
   "cell_type": "code",
   "execution_count": 16,
   "id": "0124c4f7",
   "metadata": {
    "execution": {
     "iopub.execute_input": "2025-09-01T21:47:29.783316Z",
     "iopub.status.busy": "2025-09-01T21:47:29.783007Z",
     "iopub.status.idle": "2025-09-01T21:47:29.789996Z",
     "shell.execute_reply": "2025-09-01T21:47:29.789289Z"
    },
    "papermill": {
     "duration": 0.018696,
     "end_time": "2025-09-01T21:47:29.791291",
     "exception": false,
     "start_time": "2025-09-01T21:47:29.772595",
     "status": "completed"
    },
    "tags": []
   },
   "outputs": [
    {
     "data": {
      "text/plain": [
       "YearsCodePro\n",
       "False    59745\n",
       "Name: count, dtype: int64"
      ]
     },
     "execution_count": 16,
     "metadata": {},
     "output_type": "execute_result"
    }
   ],
   "source": [
    "# Verify the imputation\n",
    "df['YearsCodePro'].isnull().value_counts()"
   ]
  },
  {
   "cell_type": "markdown",
   "id": "985b836b",
   "metadata": {
    "papermill": {
     "duration": 0.009652,
     "end_time": "2025-09-01T21:47:29.810877",
     "exception": false,
     "start_time": "2025-09-01T21:47:29.801225",
     "status": "completed"
    },
    "tags": []
   },
   "source": [
    "### Imputing Missing Values in Categorical Columns"
   ]
  },
  {
   "cell_type": "markdown",
   "id": "771ab031",
   "metadata": {
    "papermill": {
     "duration": 0.009865,
     "end_time": "2025-09-01T21:47:29.830479",
     "exception": false,
     "start_time": "2025-09-01T21:47:29.820614",
     "status": "completed"
    },
    "tags": []
   },
   "source": [
    "#### RemoteWork Column"
   ]
  },
  {
   "cell_type": "code",
   "execution_count": 17,
   "id": "9ec3b0e7",
   "metadata": {
    "execution": {
     "iopub.execute_input": "2025-09-01T21:47:29.851303Z",
     "iopub.status.busy": "2025-09-01T21:47:29.851004Z",
     "iopub.status.idle": "2025-09-01T21:47:29.864986Z",
     "shell.execute_reply": "2025-09-01T21:47:29.864227Z"
    },
    "papermill": {
     "duration": 0.026159,
     "end_time": "2025-09-01T21:47:29.866377",
     "exception": false,
     "start_time": "2025-09-01T21:47:29.840218",
     "status": "completed"
    },
    "tags": []
   },
   "outputs": [],
   "source": [
    "# Method 1 - fillna\n",
    "\n",
    "# Finding the most frequent value\n",
    "most_remote = df['RemoteWork'].mode()[0]\n",
    "\n",
    "# Filling the missing values\n",
    "df['RemoteWork'].fillna(most_remote, inplace = True)"
   ]
  },
  {
   "cell_type": "code",
   "execution_count": 18,
   "id": "f410602d",
   "metadata": {
    "execution": {
     "iopub.execute_input": "2025-09-01T21:47:29.887290Z",
     "iopub.status.busy": "2025-09-01T21:47:29.886971Z",
     "iopub.status.idle": "2025-09-01T21:47:29.897172Z",
     "shell.execute_reply": "2025-09-01T21:47:29.896473Z"
    },
    "papermill": {
     "duration": 0.022278,
     "end_time": "2025-09-01T21:47:29.898494",
     "exception": false,
     "start_time": "2025-09-01T21:47:29.876216",
     "status": "completed"
    },
    "tags": []
   },
   "outputs": [
    {
     "data": {
      "text/plain": [
       "RemoteWork\n",
       "False    59745\n",
       "Name: count, dtype: int64"
      ]
     },
     "execution_count": 18,
     "metadata": {},
     "output_type": "execute_result"
    }
   ],
   "source": [
    "# Verify the imputation\n",
    "df['RemoteWork'].isnull().value_counts()"
   ]
  },
  {
   "cell_type": "markdown",
   "id": "1e17bbd0",
   "metadata": {
    "papermill": {
     "duration": 0.009554,
     "end_time": "2025-09-01T21:47:29.917907",
     "exception": false,
     "start_time": "2025-09-01T21:47:29.908353",
     "status": "completed"
    },
    "tags": []
   },
   "source": [
    "#### EdLevel Column"
   ]
  },
  {
   "cell_type": "code",
   "execution_count": 19,
   "id": "27f01a8c",
   "metadata": {
    "execution": {
     "iopub.execute_input": "2025-09-01T21:47:29.938545Z",
     "iopub.status.busy": "2025-09-01T21:47:29.938209Z",
     "iopub.status.idle": "2025-09-01T21:47:29.955448Z",
     "shell.execute_reply": "2025-09-01T21:47:29.954664Z"
    },
    "papermill": {
     "duration": 0.029399,
     "end_time": "2025-09-01T21:47:29.956912",
     "exception": false,
     "start_time": "2025-09-01T21:47:29.927513",
     "status": "completed"
    },
    "tags": []
   },
   "outputs": [],
   "source": [
    "# Method 2 - replace\n",
    "\n",
    "# Finding the most frequent value\n",
    "freq_ed_level = df['EdLevel'].mode()[0]\n",
    "\n",
    "# Replace the NaN with most frequent value\n",
    "df['EdLevel'].replace(np.nan, freq_ed_level, inplace = True)"
   ]
  },
  {
   "cell_type": "code",
   "execution_count": 20,
   "id": "45778923",
   "metadata": {
    "execution": {
     "iopub.execute_input": "2025-09-01T21:47:29.978293Z",
     "iopub.status.busy": "2025-09-01T21:47:29.977993Z",
     "iopub.status.idle": "2025-09-01T21:47:29.987988Z",
     "shell.execute_reply": "2025-09-01T21:47:29.987250Z"
    },
    "papermill": {
     "duration": 0.022427,
     "end_time": "2025-09-01T21:47:29.989356",
     "exception": false,
     "start_time": "2025-09-01T21:47:29.966929",
     "status": "completed"
    },
    "tags": []
   },
   "outputs": [
    {
     "data": {
      "text/plain": [
       "EdLevel\n",
       "False    59745\n",
       "Name: count, dtype: int64"
      ]
     },
     "execution_count": 20,
     "metadata": {},
     "output_type": "execute_result"
    }
   ],
   "source": [
    "# Verify the imputation\n",
    "df['EdLevel'].isnull().value_counts()"
   ]
  },
  {
   "cell_type": "markdown",
   "id": "7ecbdeca",
   "metadata": {
    "papermill": {
     "duration": 0.010014,
     "end_time": "2025-09-01T21:47:30.009814",
     "exception": false,
     "start_time": "2025-09-01T21:47:29.999800",
     "status": "completed"
    },
    "tags": []
   },
   "source": [
    "## Data Normalization"
   ]
  },
  {
   "cell_type": "markdown",
   "id": "b8b39606",
   "metadata": {
    "papermill": {
     "duration": 0.009858,
     "end_time": "2025-09-01T21:47:30.029760",
     "exception": false,
     "start_time": "2025-09-01T21:47:30.019902",
     "status": "completed"
    },
    "tags": []
   },
   "source": [
    "### Min-Max Scaling\n",
    "\n",
    "(data - min) / (max - min)"
   ]
  },
  {
   "cell_type": "markdown",
   "id": "8cef946d",
   "metadata": {
    "papermill": {
     "duration": 0.009792,
     "end_time": "2025-09-01T21:47:30.049588",
     "exception": false,
     "start_time": "2025-09-01T21:47:30.039796",
     "status": "completed"
    },
    "tags": []
   },
   "source": [
    "#### YearsCode Column"
   ]
  },
  {
   "cell_type": "code",
   "execution_count": 21,
   "id": "5a84a3e5",
   "metadata": {
    "execution": {
     "iopub.execute_input": "2025-09-01T21:47:30.072195Z",
     "iopub.status.busy": "2025-09-01T21:47:30.071890Z",
     "iopub.status.idle": "2025-09-01T21:47:30.078591Z",
     "shell.execute_reply": "2025-09-01T21:47:30.077844Z"
    },
    "papermill": {
     "duration": 0.02058,
     "end_time": "2025-09-01T21:47:30.080120",
     "exception": false,
     "start_time": "2025-09-01T21:47:30.059540",
     "status": "completed"
    },
    "tags": []
   },
   "outputs": [],
   "source": [
    "# Creating a new column to place the normalize values\n",
    "df['YearsCode_MinMax'] = (df['YearsCode'] - df['YearsCode'].min()) / (df['YearsCode'].max() - df['YearsCode'].min())"
   ]
  },
  {
   "cell_type": "code",
   "execution_count": 22,
   "id": "16d1c0a5",
   "metadata": {
    "execution": {
     "iopub.execute_input": "2025-09-01T21:47:30.101762Z",
     "iopub.status.busy": "2025-09-01T21:47:30.101436Z",
     "iopub.status.idle": "2025-09-01T21:47:30.111578Z",
     "shell.execute_reply": "2025-09-01T21:47:30.110775Z"
    },
    "papermill": {
     "duration": 0.022705,
     "end_time": "2025-09-01T21:47:30.112946",
     "exception": false,
     "start_time": "2025-09-01T21:47:30.090241",
     "status": "completed"
    },
    "tags": []
   },
   "outputs": [
    {
     "data": {
      "text/html": [
       "<div>\n",
       "<style scoped>\n",
       "    .dataframe tbody tr th:only-of-type {\n",
       "        vertical-align: middle;\n",
       "    }\n",
       "\n",
       "    .dataframe tbody tr th {\n",
       "        vertical-align: top;\n",
       "    }\n",
       "\n",
       "    .dataframe thead th {\n",
       "        text-align: right;\n",
       "    }\n",
       "</style>\n",
       "<table border=\"1\" class=\"dataframe\">\n",
       "  <thead>\n",
       "    <tr style=\"text-align: right;\">\n",
       "      <th></th>\n",
       "      <th>YearsCode_MinMax</th>\n",
       "      <th>YearsCode</th>\n",
       "    </tr>\n",
       "  </thead>\n",
       "  <tbody>\n",
       "    <tr>\n",
       "      <th>1</th>\n",
       "      <td>0.40</td>\n",
       "      <td>20.0</td>\n",
       "    </tr>\n",
       "    <tr>\n",
       "      <th>2</th>\n",
       "      <td>0.74</td>\n",
       "      <td>37.0</td>\n",
       "    </tr>\n",
       "    <tr>\n",
       "      <th>3</th>\n",
       "      <td>0.08</td>\n",
       "      <td>4.0</td>\n",
       "    </tr>\n",
       "    <tr>\n",
       "      <th>4</th>\n",
       "      <td>0.18</td>\n",
       "      <td>9.0</td>\n",
       "    </tr>\n",
       "    <tr>\n",
       "      <th>5</th>\n",
       "      <td>0.20</td>\n",
       "      <td>10.0</td>\n",
       "    </tr>\n",
       "  </tbody>\n",
       "</table>\n",
       "</div>"
      ],
      "text/plain": [
       "   YearsCode_MinMax  YearsCode\n",
       "1              0.40       20.0\n",
       "2              0.74       37.0\n",
       "3              0.08        4.0\n",
       "4              0.18        9.0\n",
       "5              0.20       10.0"
      ]
     },
     "execution_count": 22,
     "metadata": {},
     "output_type": "execute_result"
    }
   ],
   "source": [
    "# Compare the normalized and original values\n",
    "df[['YearsCode_MinMax', 'YearsCode']].head()"
   ]
  },
  {
   "cell_type": "markdown",
   "id": "7a4bdad5",
   "metadata": {
    "papermill": {
     "duration": 0.009727,
     "end_time": "2025-09-01T21:47:30.132935",
     "exception": false,
     "start_time": "2025-09-01T21:47:30.123208",
     "status": "completed"
    },
    "tags": []
   },
   "source": [
    "### Z-score normalization\n",
    "\n",
    "(data - mean) / standard deviation"
   ]
  },
  {
   "cell_type": "markdown",
   "id": "095b260c",
   "metadata": {
    "papermill": {
     "duration": 0.009736,
     "end_time": "2025-09-01T21:47:30.152600",
     "exception": false,
     "start_time": "2025-09-01T21:47:30.142864",
     "status": "completed"
    },
    "tags": []
   },
   "source": [
    "#### YearsCodePro Column"
   ]
  },
  {
   "cell_type": "code",
   "execution_count": 23,
   "id": "e3df7007",
   "metadata": {
    "execution": {
     "iopub.execute_input": "2025-09-01T21:47:30.174087Z",
     "iopub.status.busy": "2025-09-01T21:47:30.173770Z",
     "iopub.status.idle": "2025-09-01T21:47:30.180116Z",
     "shell.execute_reply": "2025-09-01T21:47:30.179203Z"
    },
    "papermill": {
     "duration": 0.018937,
     "end_time": "2025-09-01T21:47:30.181629",
     "exception": false,
     "start_time": "2025-09-01T21:47:30.162692",
     "status": "completed"
    },
    "tags": []
   },
   "outputs": [],
   "source": [
    "# Placing the normalize values in a new column\n",
    "df['YearsCodePro_Zscore'] = (df['YearsCodePro'] - df['YearsCodePro'].mean()) / df['YearsCodePro'].std()"
   ]
  },
  {
   "cell_type": "code",
   "execution_count": 24,
   "id": "3f75f052",
   "metadata": {
    "execution": {
     "iopub.execute_input": "2025-09-01T21:47:30.203915Z",
     "iopub.status.busy": "2025-09-01T21:47:30.203311Z",
     "iopub.status.idle": "2025-09-01T21:47:30.213584Z",
     "shell.execute_reply": "2025-09-01T21:47:30.212817Z"
    },
    "papermill": {
     "duration": 0.022993,
     "end_time": "2025-09-01T21:47:30.215123",
     "exception": false,
     "start_time": "2025-09-01T21:47:30.192130",
     "status": "completed"
    },
    "tags": []
   },
   "outputs": [
    {
     "data": {
      "text/html": [
       "<div>\n",
       "<style scoped>\n",
       "    .dataframe tbody tr th:only-of-type {\n",
       "        vertical-align: middle;\n",
       "    }\n",
       "\n",
       "    .dataframe tbody tr th {\n",
       "        vertical-align: top;\n",
       "    }\n",
       "\n",
       "    .dataframe thead th {\n",
       "        text-align: right;\n",
       "    }\n",
       "</style>\n",
       "<table border=\"1\" class=\"dataframe\">\n",
       "  <thead>\n",
       "    <tr style=\"text-align: right;\">\n",
       "      <th></th>\n",
       "      <th>YearsCodePro_Zscore</th>\n",
       "      <th>YearsCodePro</th>\n",
       "    </tr>\n",
       "  </thead>\n",
       "  <tbody>\n",
       "    <tr>\n",
       "      <th>1</th>\n",
       "      <td>0.812509</td>\n",
       "      <td>17.0</td>\n",
       "    </tr>\n",
       "    <tr>\n",
       "      <th>2</th>\n",
       "      <td>2.010883</td>\n",
       "      <td>27.0</td>\n",
       "    </tr>\n",
       "    <tr>\n",
       "      <th>3</th>\n",
       "      <td>-0.026352</td>\n",
       "      <td>10.0</td>\n",
       "    </tr>\n",
       "    <tr>\n",
       "      <th>4</th>\n",
       "      <td>-0.026352</td>\n",
       "      <td>10.0</td>\n",
       "    </tr>\n",
       "    <tr>\n",
       "      <th>5</th>\n",
       "      <td>-0.026352</td>\n",
       "      <td>10.0</td>\n",
       "    </tr>\n",
       "  </tbody>\n",
       "</table>\n",
       "</div>"
      ],
      "text/plain": [
       "   YearsCodePro_Zscore  YearsCodePro\n",
       "1             0.812509          17.0\n",
       "2             2.010883          27.0\n",
       "3            -0.026352          10.0\n",
       "4            -0.026352          10.0\n",
       "5            -0.026352          10.0"
      ]
     },
     "execution_count": 24,
     "metadata": {},
     "output_type": "execute_result"
    }
   ],
   "source": [
    "# Compare the normalized and original values\n",
    "df[['YearsCodePro_Zscore', 'YearsCodePro']].head()"
   ]
  },
  {
   "cell_type": "markdown",
   "id": "aba8877c",
   "metadata": {
    "papermill": {
     "duration": 0.01022,
     "end_time": "2025-09-01T21:47:30.235933",
     "exception": false,
     "start_time": "2025-09-01T21:47:30.225713",
     "status": "completed"
    },
    "tags": []
   },
   "source": [
    "## Other Techniques"
   ]
  },
  {
   "cell_type": "markdown",
   "id": "f4eb87ba",
   "metadata": {
    "papermill": {
     "duration": 0.010284,
     "end_time": "2025-09-01T21:47:30.256676",
     "exception": false,
     "start_time": "2025-09-01T21:47:30.246392",
     "status": "completed"
    },
    "tags": []
   },
   "source": [
    "### Binning\n",
    "\n",
    "Creating a new column: 'ExperienceLevel' based on the 'YearsCodePro' Column"
   ]
  },
  {
   "cell_type": "code",
   "execution_count": 25,
   "id": "5e3f96c5",
   "metadata": {
    "execution": {
     "iopub.execute_input": "2025-09-01T21:47:30.279123Z",
     "iopub.status.busy": "2025-09-01T21:47:30.278812Z",
     "iopub.status.idle": "2025-09-01T21:47:30.289800Z",
     "shell.execute_reply": "2025-09-01T21:47:30.289015Z"
    },
    "papermill": {
     "duration": 0.023841,
     "end_time": "2025-09-01T21:47:30.291159",
     "exception": false,
     "start_time": "2025-09-01T21:47:30.267318",
     "status": "completed"
    },
    "tags": []
   },
   "outputs": [],
   "source": [
    "# Create the ranges and labels\n",
    "ranges = [0, 3, 5, 8, 10, 100]\n",
    "\n",
    "# Store the names for each range\n",
    "range_labels = ['Entry', 'Mid', 'Senior', 'Lead', 'Architect']\n",
    "\n",
    "# Using the function cut to apply the bins\n",
    "df['ExperienceLevel'] = pd.cut(df['YearsCodePro'], bins = ranges, labels = range_labels, include_lowest=True, ordered=False)"
   ]
  },
  {
   "cell_type": "code",
   "execution_count": 26,
   "id": "828483d6",
   "metadata": {
    "execution": {
     "iopub.execute_input": "2025-09-01T21:47:30.313418Z",
     "iopub.status.busy": "2025-09-01T21:47:30.313123Z",
     "iopub.status.idle": "2025-09-01T21:47:30.325399Z",
     "shell.execute_reply": "2025-09-01T21:47:30.324645Z"
    },
    "papermill": {
     "duration": 0.025118,
     "end_time": "2025-09-01T21:47:30.326799",
     "exception": false,
     "start_time": "2025-09-01T21:47:30.301681",
     "status": "completed"
    },
    "tags": []
   },
   "outputs": [
    {
     "data": {
      "text/html": [
       "<div>\n",
       "<style scoped>\n",
       "    .dataframe tbody tr th:only-of-type {\n",
       "        vertical-align: middle;\n",
       "    }\n",
       "\n",
       "    .dataframe tbody tr th {\n",
       "        vertical-align: top;\n",
       "    }\n",
       "\n",
       "    .dataframe thead th {\n",
       "        text-align: right;\n",
       "    }\n",
       "</style>\n",
       "<table border=\"1\" class=\"dataframe\">\n",
       "  <thead>\n",
       "    <tr style=\"text-align: right;\">\n",
       "      <th></th>\n",
       "      <th>YearsCodePro</th>\n",
       "      <th>ExperienceLevel</th>\n",
       "    </tr>\n",
       "  </thead>\n",
       "  <tbody>\n",
       "    <tr>\n",
       "      <th>39276</th>\n",
       "      <td>2.0</td>\n",
       "      <td>Entry</td>\n",
       "    </tr>\n",
       "    <tr>\n",
       "      <th>2944</th>\n",
       "      <td>13.0</td>\n",
       "      <td>Architect</td>\n",
       "    </tr>\n",
       "    <tr>\n",
       "      <th>64994</th>\n",
       "      <td>19.0</td>\n",
       "      <td>Architect</td>\n",
       "    </tr>\n",
       "    <tr>\n",
       "      <th>39938</th>\n",
       "      <td>1.0</td>\n",
       "      <td>Entry</td>\n",
       "    </tr>\n",
       "    <tr>\n",
       "      <th>34270</th>\n",
       "      <td>9.0</td>\n",
       "      <td>Lead</td>\n",
       "    </tr>\n",
       "    <tr>\n",
       "      <th>14389</th>\n",
       "      <td>10.0</td>\n",
       "      <td>Lead</td>\n",
       "    </tr>\n",
       "    <tr>\n",
       "      <th>22694</th>\n",
       "      <td>5.0</td>\n",
       "      <td>Mid</td>\n",
       "    </tr>\n",
       "    <tr>\n",
       "      <th>30319</th>\n",
       "      <td>0.0</td>\n",
       "      <td>Entry</td>\n",
       "    </tr>\n",
       "    <tr>\n",
       "      <th>51141</th>\n",
       "      <td>20.0</td>\n",
       "      <td>Architect</td>\n",
       "    </tr>\n",
       "    <tr>\n",
       "      <th>27535</th>\n",
       "      <td>3.0</td>\n",
       "      <td>Entry</td>\n",
       "    </tr>\n",
       "  </tbody>\n",
       "</table>\n",
       "</div>"
      ],
      "text/plain": [
       "       YearsCodePro ExperienceLevel\n",
       "39276           2.0           Entry\n",
       "2944           13.0       Architect\n",
       "64994          19.0       Architect\n",
       "39938           1.0           Entry\n",
       "34270           9.0            Lead\n",
       "14389          10.0            Lead\n",
       "22694           5.0             Mid\n",
       "30319           0.0           Entry\n",
       "51141          20.0       Architect\n",
       "27535           3.0           Entry"
      ]
     },
     "execution_count": 26,
     "metadata": {},
     "output_type": "execute_result"
    }
   ],
   "source": [
    "# Displaying 10 rows\n",
    "df[['YearsCodePro', 'ExperienceLevel']].sample(n = 10, random_state = 42)"
   ]
  },
  {
   "cell_type": "markdown",
   "id": "07774d8e",
   "metadata": {
    "papermill": {
     "duration": 0.010812,
     "end_time": "2025-09-01T21:47:30.350033",
     "exception": false,
     "start_time": "2025-09-01T21:47:30.339221",
     "status": "completed"
    },
    "tags": []
   },
   "source": [
    "### One-hot Encoding\n",
    "\n"
   ]
  },
  {
   "cell_type": "code",
   "execution_count": 27,
   "id": "51ffad70",
   "metadata": {
    "execution": {
     "iopub.execute_input": "2025-09-01T21:47:30.372549Z",
     "iopub.status.busy": "2025-09-01T21:47:30.372203Z",
     "iopub.status.idle": "2025-09-01T21:47:30.385276Z",
     "shell.execute_reply": "2025-09-01T21:47:30.384517Z"
    },
    "papermill": {
     "duration": 0.026412,
     "end_time": "2025-09-01T21:47:30.386850",
     "exception": false,
     "start_time": "2025-09-01T21:47:30.360438",
     "status": "completed"
    },
    "tags": []
   },
   "outputs": [
    {
     "data": {
      "text/plain": [
       "MainBranch\n",
       "I am a developer by profession                                                           46236\n",
       "I am not primarily a developer, but I write code sometimes as part of my work/studies     5956\n",
       "I am learning to code                                                                     3163\n",
       "I code primarily as a hobby                                                               3050\n",
       "I used to be a developer by profession, but no longer am                                  1340\n",
       "Name: count, dtype: int64"
      ]
     },
     "execution_count": 27,
     "metadata": {},
     "output_type": "execute_result"
    }
   ],
   "source": [
    "# Display the values and counts in the MainBranch column\n",
    "df['MainBranch'].value_counts()"
   ]
  },
  {
   "cell_type": "code",
   "execution_count": 28,
   "id": "d1c4b0de",
   "metadata": {
    "execution": {
     "iopub.execute_input": "2025-09-01T21:47:30.410284Z",
     "iopub.status.busy": "2025-09-01T21:47:30.409247Z",
     "iopub.status.idle": "2025-09-01T21:47:30.426369Z",
     "shell.execute_reply": "2025-09-01T21:47:30.425379Z"
    },
    "papermill": {
     "duration": 0.030076,
     "end_time": "2025-09-01T21:47:30.427783",
     "exception": false,
     "start_time": "2025-09-01T21:47:30.397707",
     "status": "completed"
    },
    "tags": []
   },
   "outputs": [
    {
     "data": {
      "text/html": [
       "<div>\n",
       "<style scoped>\n",
       "    .dataframe tbody tr th:only-of-type {\n",
       "        vertical-align: middle;\n",
       "    }\n",
       "\n",
       "    .dataframe tbody tr th {\n",
       "        vertical-align: top;\n",
       "    }\n",
       "\n",
       "    .dataframe thead th {\n",
       "        text-align: right;\n",
       "    }\n",
       "</style>\n",
       "<table border=\"1\" class=\"dataframe\">\n",
       "  <thead>\n",
       "    <tr style=\"text-align: right;\">\n",
       "      <th></th>\n",
       "      <th>ProDeveloper</th>\n",
       "      <th>Learner</th>\n",
       "      <th>OccasionalCoder</th>\n",
       "      <th>HobbyCoder</th>\n",
       "      <th>FormerDev</th>\n",
       "    </tr>\n",
       "  </thead>\n",
       "  <tbody>\n",
       "    <tr>\n",
       "      <th>1</th>\n",
       "      <td>True</td>\n",
       "      <td>False</td>\n",
       "      <td>False</td>\n",
       "      <td>False</td>\n",
       "      <td>False</td>\n",
       "    </tr>\n",
       "    <tr>\n",
       "      <th>2</th>\n",
       "      <td>True</td>\n",
       "      <td>False</td>\n",
       "      <td>False</td>\n",
       "      <td>False</td>\n",
       "      <td>False</td>\n",
       "    </tr>\n",
       "    <tr>\n",
       "      <th>3</th>\n",
       "      <td>False</td>\n",
       "      <td>True</td>\n",
       "      <td>False</td>\n",
       "      <td>False</td>\n",
       "      <td>False</td>\n",
       "    </tr>\n",
       "    <tr>\n",
       "      <th>4</th>\n",
       "      <td>True</td>\n",
       "      <td>False</td>\n",
       "      <td>False</td>\n",
       "      <td>False</td>\n",
       "      <td>False</td>\n",
       "    </tr>\n",
       "    <tr>\n",
       "      <th>5</th>\n",
       "      <td>False</td>\n",
       "      <td>False</td>\n",
       "      <td>False</td>\n",
       "      <td>True</td>\n",
       "      <td>False</td>\n",
       "    </tr>\n",
       "  </tbody>\n",
       "</table>\n",
       "</div>"
      ],
      "text/plain": [
       "   ProDeveloper  Learner  OccasionalCoder  HobbyCoder  FormerDev\n",
       "1          True    False            False       False      False\n",
       "2          True    False            False       False      False\n",
       "3         False     True            False       False      False\n",
       "4          True    False            False       False      False\n",
       "5         False    False            False        True      False"
      ]
     },
     "execution_count": 28,
     "metadata": {},
     "output_type": "execute_result"
    }
   ],
   "source": [
    "# Using the method get_dummies to encode the MainBranch column\n",
    "# Values only consist of True or False\n",
    "# Rename the columns for better readability\n",
    "df_encoded = pd.get_dummies(df['MainBranch'])\n",
    "df_encoded.columns = ['ProDeveloper', 'Learner', 'OccasionalCoder', 'HobbyCoder', 'FormerDev']\n",
    "df_encoded.head()"
   ]
  },
  {
   "cell_type": "code",
   "execution_count": 29,
   "id": "88612808",
   "metadata": {
    "execution": {
     "iopub.execute_input": "2025-09-01T21:47:30.450799Z",
     "iopub.status.busy": "2025-09-01T21:47:30.450182Z",
     "iopub.status.idle": "2025-09-01T21:47:30.489444Z",
     "shell.execute_reply": "2025-09-01T21:47:30.488419Z"
    },
    "papermill": {
     "duration": 0.052394,
     "end_time": "2025-09-01T21:47:30.491118",
     "exception": false,
     "start_time": "2025-09-01T21:47:30.438724",
     "status": "completed"
    },
    "tags": []
   },
   "outputs": [],
   "source": [
    "# Adding the new encoded values to the dataframe\n",
    "new_df = pd.concat([df, df_encoded], axis = 1)"
   ]
  },
  {
   "cell_type": "markdown",
   "id": "9096d353",
   "metadata": {
    "papermill": {
     "duration": 0.010485,
     "end_time": "2025-09-01T21:47:30.512399",
     "exception": false,
     "start_time": "2025-09-01T21:47:30.501914",
     "status": "completed"
    },
    "tags": []
   },
   "source": [
    "## Exporting the Dataframe to a CSV "
   ]
  },
  {
   "cell_type": "code",
   "execution_count": 30,
   "id": "fbbe9471",
   "metadata": {
    "execution": {
     "iopub.execute_input": "2025-09-01T21:47:30.535708Z",
     "iopub.status.busy": "2025-09-01T21:47:30.534953Z",
     "iopub.status.idle": "2025-09-01T21:47:32.257652Z",
     "shell.execute_reply": "2025-09-01T21:47:32.256889Z"
    },
    "papermill": {
     "duration": 1.736041,
     "end_time": "2025-09-01T21:47:32.259259",
     "exception": false,
     "start_time": "2025-09-01T21:47:30.523218",
     "status": "completed"
    },
    "tags": []
   },
   "outputs": [],
   "source": [
    "df.to_csv(\"clean_survey_data.csv\", index = False)"
   ]
  }
 ],
 "metadata": {
  "kaggle": {
   "accelerator": "none",
   "dataSources": [
    {
     "datasetId": 8184950,
     "sourceId": 12934488,
     "sourceType": "datasetVersion"
    }
   ],
   "dockerImageVersionId": 31089,
   "isGpuEnabled": false,
   "isInternetEnabled": true,
   "language": "python",
   "sourceType": "notebook"
  },
  "kernelspec": {
   "display_name": "Python 3",
   "language": "python",
   "name": "python3"
  },
  "language_info": {
   "codemirror_mode": {
    "name": "ipython",
    "version": 3
   },
   "file_extension": ".py",
   "mimetype": "text/x-python",
   "name": "python",
   "nbconvert_exporter": "python",
   "pygments_lexer": "ipython3",
   "version": "3.11.13"
  },
  "papermill": {
   "default_parameters": {},
   "duration": 18.895459,
   "end_time": "2025-09-01T21:47:32.890358",
   "environment_variables": {},
   "exception": null,
   "input_path": "__notebook__.ipynb",
   "output_path": "__notebook__.ipynb",
   "parameters": {},
   "start_time": "2025-09-01T21:47:13.994899",
   "version": "2.6.0"
  }
 },
 "nbformat": 4,
 "nbformat_minor": 5
}
