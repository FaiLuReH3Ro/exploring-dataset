{
 "cells": [
  {
   "cell_type": "markdown",
   "id": "76d119a8-428d-4afb-bb94-197b0c06855b",
   "metadata": {},
   "source": [
    "# **Exploring the Dataset**\n"
   ]
  },
  {
   "cell_type": "markdown",
   "id": "df168251-baa2-4206-852f-d2dcbc1ac64d",
   "metadata": {},
   "source": [
    "## Objectives\n"
   ]
  },
  {
   "cell_type": "markdown",
   "id": "1153cb0c-00af-43e8-a987-e99b2d0f6d5c",
   "metadata": {},
   "source": [
    "-   Read the dataset into a dataframe\n",
    "-   Exploring some of the data using pandas\n"
   ]
  },
  {
   "cell_type": "markdown",
   "id": "e60f9752-5938-419b-b51e-e5bf0841f140",
   "metadata": {},
   "source": [
    "## Load the dataset\n"
   ]
  },
  {
   "cell_type": "markdown",
   "id": "bf53d08e-bf58-49ce-8953-bb761f102c3e",
   "metadata": {},
   "source": [
    "Import the required libraries.\n"
   ]
  },
  {
   "cell_type": "code",
   "execution_count": 33,
   "id": "16412d09-4bb0-46c1-bb2d-97036a6ed9bd",
   "metadata": {},
   "outputs": [],
   "source": [
    "import pandas as pd"
   ]
  },
  {
   "cell_type": "markdown",
   "id": "848f49cf-f61b-4aad-ae04-3267f0c6c797",
   "metadata": {},
   "source": [
    "The dataset is available on the IBM Cloud at the below url.\n"
   ]
  },
  {
   "cell_type": "code",
   "execution_count": 34,
   "id": "a0953716-5679-4261-9f2f-f55594b39822",
   "metadata": {},
   "outputs": [],
   "source": [
    "dataset_url = \"https://cf-courses-data.s3.us.cloud-object-storage.appdomain.cloud/n01PQ9pSmiRX6520flujwQ/survey-data.csv\""
   ]
  },
  {
   "cell_type": "markdown",
   "id": "23cd4740-8a85-4a5d-b370-bd78242c527b",
   "metadata": {},
   "source": [
    "Load the data into a dataframe.\n"
   ]
  },
  {
   "cell_type": "code",
   "execution_count": 35,
   "id": "3d0a3e50-ba3c-45eb-8b7c-a2f37878560c",
   "metadata": {},
   "outputs": [],
   "source": [
    "data = pd.read_csv(dataset_url)"
   ]
  },
  {
   "cell_type": "markdown",
   "id": "51069905-ea7c-4ac5-9e62-d35d4b86296c",
   "metadata": {},
   "source": [
    "## Explore the dataset\n"
   ]
  },
  {
   "cell_type": "markdown",
   "id": "b0c5d7ac-5ff4-408c-bc24-e90785a8cd0f",
   "metadata": {},
   "source": [
    "Display the top 5 rows and columns from the dataset.\n"
   ]
  },
  {
   "cell_type": "code",
   "execution_count": 36,
   "id": "b1d46fea-59ff-4bb2-9df3-a9e45b03aab2",
   "metadata": {},
   "outputs": [
    {
     "data": {
      "text/html": [
       "<div>\n",
       "<style scoped>\n",
       "    .dataframe tbody tr th:only-of-type {\n",
       "        vertical-align: middle;\n",
       "    }\n",
       "\n",
       "    .dataframe tbody tr th {\n",
       "        vertical-align: top;\n",
       "    }\n",
       "\n",
       "    .dataframe thead th {\n",
       "        text-align: right;\n",
       "    }\n",
       "</style>\n",
       "<table border=\"1\" class=\"dataframe\">\n",
       "  <thead>\n",
       "    <tr style=\"text-align: right;\">\n",
       "      <th></th>\n",
       "      <th>ResponseId</th>\n",
       "      <th>MainBranch</th>\n",
       "      <th>Age</th>\n",
       "      <th>Employment</th>\n",
       "      <th>RemoteWork</th>\n",
       "      <th>Check</th>\n",
       "      <th>CodingActivities</th>\n",
       "      <th>EdLevel</th>\n",
       "      <th>LearnCode</th>\n",
       "      <th>LearnCodeOnline</th>\n",
       "      <th>...</th>\n",
       "      <th>JobSatPoints_6</th>\n",
       "      <th>JobSatPoints_7</th>\n",
       "      <th>JobSatPoints_8</th>\n",
       "      <th>JobSatPoints_9</th>\n",
       "      <th>JobSatPoints_10</th>\n",
       "      <th>JobSatPoints_11</th>\n",
       "      <th>SurveyLength</th>\n",
       "      <th>SurveyEase</th>\n",
       "      <th>ConvertedCompYearly</th>\n",
       "      <th>JobSat</th>\n",
       "    </tr>\n",
       "  </thead>\n",
       "  <tbody>\n",
       "    <tr>\n",
       "      <th>0</th>\n",
       "      <td>1</td>\n",
       "      <td>I am a developer by profession</td>\n",
       "      <td>Under 18 years old</td>\n",
       "      <td>Employed, full-time</td>\n",
       "      <td>Remote</td>\n",
       "      <td>Apples</td>\n",
       "      <td>Hobby</td>\n",
       "      <td>Primary/elementary school</td>\n",
       "      <td>Books / Physical media</td>\n",
       "      <td>NaN</td>\n",
       "      <td>...</td>\n",
       "      <td>NaN</td>\n",
       "      <td>NaN</td>\n",
       "      <td>NaN</td>\n",
       "      <td>NaN</td>\n",
       "      <td>NaN</td>\n",
       "      <td>NaN</td>\n",
       "      <td>NaN</td>\n",
       "      <td>NaN</td>\n",
       "      <td>NaN</td>\n",
       "      <td>NaN</td>\n",
       "    </tr>\n",
       "    <tr>\n",
       "      <th>1</th>\n",
       "      <td>2</td>\n",
       "      <td>I am a developer by profession</td>\n",
       "      <td>35-44 years old</td>\n",
       "      <td>Employed, full-time</td>\n",
       "      <td>Remote</td>\n",
       "      <td>Apples</td>\n",
       "      <td>Hobby;Contribute to open-source projects;Other...</td>\n",
       "      <td>Bachelor’s degree (B.A., B.S., B.Eng., etc.)</td>\n",
       "      <td>Books / Physical media;Colleague;On the job tr...</td>\n",
       "      <td>Technical documentation;Blogs;Books;Written Tu...</td>\n",
       "      <td>...</td>\n",
       "      <td>0.0</td>\n",
       "      <td>0.0</td>\n",
       "      <td>0.0</td>\n",
       "      <td>0.0</td>\n",
       "      <td>0.0</td>\n",
       "      <td>0.0</td>\n",
       "      <td>NaN</td>\n",
       "      <td>NaN</td>\n",
       "      <td>NaN</td>\n",
       "      <td>NaN</td>\n",
       "    </tr>\n",
       "    <tr>\n",
       "      <th>2</th>\n",
       "      <td>3</td>\n",
       "      <td>I am a developer by profession</td>\n",
       "      <td>45-54 years old</td>\n",
       "      <td>Employed, full-time</td>\n",
       "      <td>Remote</td>\n",
       "      <td>Apples</td>\n",
       "      <td>Hobby;Contribute to open-source projects;Other...</td>\n",
       "      <td>Master’s degree (M.A., M.S., M.Eng., MBA, etc.)</td>\n",
       "      <td>Books / Physical media;Colleague;On the job tr...</td>\n",
       "      <td>Technical documentation;Blogs;Books;Written Tu...</td>\n",
       "      <td>...</td>\n",
       "      <td>NaN</td>\n",
       "      <td>NaN</td>\n",
       "      <td>NaN</td>\n",
       "      <td>NaN</td>\n",
       "      <td>NaN</td>\n",
       "      <td>NaN</td>\n",
       "      <td>Appropriate in length</td>\n",
       "      <td>Easy</td>\n",
       "      <td>NaN</td>\n",
       "      <td>NaN</td>\n",
       "    </tr>\n",
       "    <tr>\n",
       "      <th>3</th>\n",
       "      <td>4</td>\n",
       "      <td>I am learning to code</td>\n",
       "      <td>18-24 years old</td>\n",
       "      <td>Student, full-time</td>\n",
       "      <td>NaN</td>\n",
       "      <td>Apples</td>\n",
       "      <td>NaN</td>\n",
       "      <td>Some college/university study without earning ...</td>\n",
       "      <td>Other online resources (e.g., videos, blogs, f...</td>\n",
       "      <td>Stack Overflow;How-to videos;Interactive tutorial</td>\n",
       "      <td>...</td>\n",
       "      <td>NaN</td>\n",
       "      <td>NaN</td>\n",
       "      <td>NaN</td>\n",
       "      <td>NaN</td>\n",
       "      <td>NaN</td>\n",
       "      <td>NaN</td>\n",
       "      <td>Too long</td>\n",
       "      <td>Easy</td>\n",
       "      <td>NaN</td>\n",
       "      <td>NaN</td>\n",
       "    </tr>\n",
       "    <tr>\n",
       "      <th>4</th>\n",
       "      <td>5</td>\n",
       "      <td>I am a developer by profession</td>\n",
       "      <td>18-24 years old</td>\n",
       "      <td>Student, full-time</td>\n",
       "      <td>NaN</td>\n",
       "      <td>Apples</td>\n",
       "      <td>NaN</td>\n",
       "      <td>Secondary school (e.g. American high school, G...</td>\n",
       "      <td>Other online resources (e.g., videos, blogs, f...</td>\n",
       "      <td>Technical documentation;Blogs;Written Tutorial...</td>\n",
       "      <td>...</td>\n",
       "      <td>NaN</td>\n",
       "      <td>NaN</td>\n",
       "      <td>NaN</td>\n",
       "      <td>NaN</td>\n",
       "      <td>NaN</td>\n",
       "      <td>NaN</td>\n",
       "      <td>Too short</td>\n",
       "      <td>Easy</td>\n",
       "      <td>NaN</td>\n",
       "      <td>NaN</td>\n",
       "    </tr>\n",
       "  </tbody>\n",
       "</table>\n",
       "<p>5 rows × 114 columns</p>\n",
       "</div>"
      ],
      "text/plain": [
       "   ResponseId                      MainBranch                 Age  \\\n",
       "0           1  I am a developer by profession  Under 18 years old   \n",
       "1           2  I am a developer by profession     35-44 years old   \n",
       "2           3  I am a developer by profession     45-54 years old   \n",
       "3           4           I am learning to code     18-24 years old   \n",
       "4           5  I am a developer by profession     18-24 years old   \n",
       "\n",
       "            Employment RemoteWork   Check  \\\n",
       "0  Employed, full-time     Remote  Apples   \n",
       "1  Employed, full-time     Remote  Apples   \n",
       "2  Employed, full-time     Remote  Apples   \n",
       "3   Student, full-time        NaN  Apples   \n",
       "4   Student, full-time        NaN  Apples   \n",
       "\n",
       "                                    CodingActivities  \\\n",
       "0                                              Hobby   \n",
       "1  Hobby;Contribute to open-source projects;Other...   \n",
       "2  Hobby;Contribute to open-source projects;Other...   \n",
       "3                                                NaN   \n",
       "4                                                NaN   \n",
       "\n",
       "                                             EdLevel  \\\n",
       "0                          Primary/elementary school   \n",
       "1       Bachelor’s degree (B.A., B.S., B.Eng., etc.)   \n",
       "2    Master’s degree (M.A., M.S., M.Eng., MBA, etc.)   \n",
       "3  Some college/university study without earning ...   \n",
       "4  Secondary school (e.g. American high school, G...   \n",
       "\n",
       "                                           LearnCode  \\\n",
       "0                             Books / Physical media   \n",
       "1  Books / Physical media;Colleague;On the job tr...   \n",
       "2  Books / Physical media;Colleague;On the job tr...   \n",
       "3  Other online resources (e.g., videos, blogs, f...   \n",
       "4  Other online resources (e.g., videos, blogs, f...   \n",
       "\n",
       "                                     LearnCodeOnline  ... JobSatPoints_6  \\\n",
       "0                                                NaN  ...            NaN   \n",
       "1  Technical documentation;Blogs;Books;Written Tu...  ...            0.0   \n",
       "2  Technical documentation;Blogs;Books;Written Tu...  ...            NaN   \n",
       "3  Stack Overflow;How-to videos;Interactive tutorial  ...            NaN   \n",
       "4  Technical documentation;Blogs;Written Tutorial...  ...            NaN   \n",
       "\n",
       "  JobSatPoints_7 JobSatPoints_8 JobSatPoints_9 JobSatPoints_10  \\\n",
       "0            NaN            NaN            NaN             NaN   \n",
       "1            0.0            0.0            0.0             0.0   \n",
       "2            NaN            NaN            NaN             NaN   \n",
       "3            NaN            NaN            NaN             NaN   \n",
       "4            NaN            NaN            NaN             NaN   \n",
       "\n",
       "  JobSatPoints_11           SurveyLength SurveyEase ConvertedCompYearly JobSat  \n",
       "0             NaN                    NaN        NaN                 NaN    NaN  \n",
       "1             0.0                    NaN        NaN                 NaN    NaN  \n",
       "2             NaN  Appropriate in length       Easy                 NaN    NaN  \n",
       "3             NaN               Too long       Easy                 NaN    NaN  \n",
       "4             NaN              Too short       Easy                 NaN    NaN  \n",
       "\n",
       "[5 rows x 114 columns]"
      ]
     },
     "execution_count": 36,
     "metadata": {},
     "output_type": "execute_result"
    }
   ],
   "source": [
    "data.head()"
   ]
  },
  {
   "cell_type": "markdown",
   "id": "f432eb89-e6cf-42a9-a842-840f24e8d19b",
   "metadata": {},
   "source": [
    "## Finding out the number of rows and columns\n"
   ]
  },
  {
   "cell_type": "markdown",
   "id": "b08524b5-1ac5-4da9-aedc-6595ce90e8c7",
   "metadata": {},
   "source": [
    "The number of rows in the dataset.\n"
   ]
  },
  {
   "cell_type": "code",
   "execution_count": 37,
   "id": "950af894-41e2-40c8-96aa-856278e0a466",
   "metadata": {},
   "outputs": [
    {
     "name": "stdout",
     "output_type": "stream",
     "text": [
      "There are 65437 rows\n"
     ]
    }
   ],
   "source": [
    "print(f'There are {data.shape[0]} rows')"
   ]
  },
  {
   "cell_type": "markdown",
   "id": "9acf3ad3-d055-47b2-8fda-29c59d02f723",
   "metadata": {},
   "source": [
    "The number of columns in the dataset.\n"
   ]
  },
  {
   "cell_type": "code",
   "execution_count": 38,
   "id": "eea9aaaa-f7d1-49f8-aea4-16ad92e77c12",
   "metadata": {},
   "outputs": [
    {
     "name": "stdout",
     "output_type": "stream",
     "text": [
      "There are 114 columns\n"
     ]
    }
   ],
   "source": [
    "print(f'There are {data.shape[1]} columns')"
   ]
  },
  {
   "cell_type": "markdown",
   "id": "8177fa73-34b9-42e3-a252-a20e29bd72cd",
   "metadata": {},
   "source": [
    "## Identifying the data types of each column\n"
   ]
  },
  {
   "cell_type": "code",
   "execution_count": 39,
   "metadata": {},
   "outputs": [],
   "source": [
    "# Option to display all the rows in the dataframe\n",
    "pd.set_option('display.max_rows', None)"
   ]
  },
  {
   "cell_type": "markdown",
   "metadata": {},
   "source": [
    "Displaying the datatype of all columns."
   ]
  },
  {
   "cell_type": "code",
   "execution_count": 40,
   "id": "db5b9d85-f83b-4a3e-8578-0bee2d25595b",
   "metadata": {},
   "outputs": [
    {
     "data": {
      "text/plain": [
       "ResponseId                          int64\n",
       "MainBranch                         object\n",
       "Age                                object\n",
       "Employment                         object\n",
       "RemoteWork                         object\n",
       "Check                              object\n",
       "CodingActivities                   object\n",
       "EdLevel                            object\n",
       "LearnCode                          object\n",
       "LearnCodeOnline                    object\n",
       "TechDoc                            object\n",
       "YearsCode                          object\n",
       "YearsCodePro                       object\n",
       "DevType                            object\n",
       "OrgSize                            object\n",
       "PurchaseInfluence                  object\n",
       "BuyNewTool                         object\n",
       "BuildvsBuy                         object\n",
       "TechEndorse                        object\n",
       "Country                            object\n",
       "Currency                           object\n",
       "CompTotal                         float64\n",
       "LanguageHaveWorkedWith             object\n",
       "LanguageWantToWorkWith             object\n",
       "LanguageAdmired                    object\n",
       "DatabaseHaveWorkedWith             object\n",
       "DatabaseWantToWorkWith             object\n",
       "DatabaseAdmired                    object\n",
       "PlatformHaveWorkedWith             object\n",
       "PlatformWantToWorkWith             object\n",
       "PlatformAdmired                    object\n",
       "WebframeHaveWorkedWith             object\n",
       "WebframeWantToWorkWith             object\n",
       "WebframeAdmired                    object\n",
       "EmbeddedHaveWorkedWith             object\n",
       "EmbeddedWantToWorkWith             object\n",
       "EmbeddedAdmired                    object\n",
       "MiscTechHaveWorkedWith             object\n",
       "MiscTechWantToWorkWith             object\n",
       "MiscTechAdmired                    object\n",
       "ToolsTechHaveWorkedWith            object\n",
       "ToolsTechWantToWorkWith            object\n",
       "ToolsTechAdmired                   object\n",
       "NEWCollabToolsHaveWorkedWith       object\n",
       "NEWCollabToolsWantToWorkWith       object\n",
       "NEWCollabToolsAdmired              object\n",
       "OpSysPersonal use                  object\n",
       "OpSysProfessional use              object\n",
       "OfficeStackAsyncHaveWorkedWith     object\n",
       "OfficeStackAsyncWantToWorkWith     object\n",
       "OfficeStackAsyncAdmired            object\n",
       "OfficeStackSyncHaveWorkedWith      object\n",
       "OfficeStackSyncWantToWorkWith      object\n",
       "OfficeStackSyncAdmired             object\n",
       "AISearchDevHaveWorkedWith          object\n",
       "AISearchDevWantToWorkWith          object\n",
       "AISearchDevAdmired                 object\n",
       "NEWSOSites                         object\n",
       "SOVisitFreq                        object\n",
       "SOAccount                          object\n",
       "SOPartFreq                         object\n",
       "SOHow                              object\n",
       "SOComm                             object\n",
       "AISelect                           object\n",
       "AISent                             object\n",
       "AIBen                              object\n",
       "AIAcc                              object\n",
       "AIComplex                          object\n",
       "AIToolCurrently Using              object\n",
       "AIToolInterested in Using          object\n",
       "AIToolNot interested in Using      object\n",
       "AINextMuch more integrated         object\n",
       "AINextNo change                    object\n",
       "AINextMore integrated              object\n",
       "AINextLess integrated              object\n",
       "AINextMuch less integrated         object\n",
       "AIThreat                           object\n",
       "AIEthics                           object\n",
       "AIChallenges                       object\n",
       "TBranch                            object\n",
       "ICorPM                             object\n",
       "WorkExp                           float64\n",
       "Knowledge_1                        object\n",
       "Knowledge_2                        object\n",
       "Knowledge_3                        object\n",
       "Knowledge_4                        object\n",
       "Knowledge_5                        object\n",
       "Knowledge_6                        object\n",
       "Knowledge_7                        object\n",
       "Knowledge_8                        object\n",
       "Knowledge_9                        object\n",
       "Frequency_1                        object\n",
       "Frequency_2                        object\n",
       "Frequency_3                        object\n",
       "TimeSearching                      object\n",
       "TimeAnswering                      object\n",
       "Frustration                        object\n",
       "ProfessionalTech                   object\n",
       "ProfessionalCloud                  object\n",
       "ProfessionalQuestion               object\n",
       "Industry                           object\n",
       "JobSatPoints_1                    float64\n",
       "JobSatPoints_4                    float64\n",
       "JobSatPoints_5                    float64\n",
       "JobSatPoints_6                    float64\n",
       "JobSatPoints_7                    float64\n",
       "JobSatPoints_8                    float64\n",
       "JobSatPoints_9                    float64\n",
       "JobSatPoints_10                   float64\n",
       "JobSatPoints_11                   float64\n",
       "SurveyLength                       object\n",
       "SurveyEase                         object\n",
       "ConvertedCompYearly               float64\n",
       "JobSat                            float64\n",
       "dtype: object"
      ]
     },
     "execution_count": 40,
     "metadata": {},
     "output_type": "execute_result"
    }
   ],
   "source": [
    "data.dtypes"
   ]
  },
  {
   "cell_type": "markdown",
   "id": "cc3092ca-63f2-4762-854f-b46a02d0b8ee",
   "metadata": {},
   "source": [
    "## Finding the most frequent age range in the survey\n"
   ]
  },
  {
   "cell_type": "code",
   "execution_count": 41,
   "id": "9ece8b48-c838-43a5-b169-778d564a895f",
   "metadata": {},
   "outputs": [
    {
     "data": {
      "text/plain": [
       "count               65437\n",
       "unique                  8\n",
       "top       25-34 years old\n",
       "freq                23911\n",
       "Name: Age, dtype: object"
      ]
     },
     "execution_count": 41,
     "metadata": {},
     "output_type": "execute_result"
    }
   ],
   "source": [
    "data['Age'].describe()\n"
   ]
  },
  {
   "cell_type": "code",
   "execution_count": 42,
   "metadata": {},
   "outputs": [
    {
     "data": {
      "text/plain": [
       "Age\n",
       "25-34 years old       23911\n",
       "35-44 years old       14942\n",
       "18-24 years old       14098\n",
       "45-54 years old        6249\n",
       "55-64 years old        2575\n",
       "Under 18 years old     2568\n",
       "65 years or older       772\n",
       "Prefer not to say       322\n",
       "Name: count, dtype: int64"
      ]
     },
     "execution_count": 42,
     "metadata": {},
     "output_type": "execute_result"
    }
   ],
   "source": [
    "data['Age'].value_counts()"
   ]
  },
  {
   "cell_type": "markdown",
   "metadata": {},
   "source": [
    "Based on the `describe()` and `value_counts()` methods, it seems like most people who participated in the survey is from `25-34 years old`."
   ]
  },
  {
   "cell_type": "markdown",
   "metadata": {},
   "source": [
    "## Finding the average age "
   ]
  },
  {
   "cell_type": "code",
   "execution_count": 43,
   "metadata": {},
   "outputs": [],
   "source": [
    "# Defining a function to apply to 'Age' column\n",
    "def avg_age(data):\n",
    "\n",
    "    # Split the strings by the hyphen\n",
    "    split = data.split('-')\n",
    "\n",
    "    # Applying the calculation on strings with a hyphen\n",
    "    if len(split) == 2:\n",
    "\n",
    "        # Getting rid of 'years old'\n",
    "        split[1] = split[1].replace(\"years old\", \"\")\n",
    "\n",
    "        # Retrieving the low and high ranges\n",
    "        l = int(split[0])\n",
    "        h = int(split[1])\n",
    "\n",
    "        # Calculating the middle\n",
    "        middle = (l + h) / 2\n",
    "\n",
    "        return middle\n",
    "    else:\n",
    "        return None"
   ]
  },
  {
   "cell_type": "markdown",
   "metadata": {},
   "source": [
    "Applying the function and calculating the mean"
   ]
  },
  {
   "cell_type": "code",
   "execution_count": 44,
   "metadata": {},
   "outputs": [
    {
     "name": "stdout",
     "output_type": "stream",
     "text": [
      "The average age is around 33.3 years old.\n"
     ]
    }
   ],
   "source": [
    "average_age = data['Age'].apply(avg_age).mean()\n",
    "age = float(round(average_age, 1))\n",
    "print(f'The average age is around {age} years old.')"
   ]
  },
  {
   "cell_type": "markdown",
   "id": "d632815f-0998-478c-b499-528c4130747a",
   "metadata": {},
   "source": [
    "\n",
    "## Finding the number of unique countries "
   ]
  },
  {
   "cell_type": "code",
   "execution_count": 45,
   "id": "20bc4981-ef14-4f25-867e-98d7e05b1fdd",
   "metadata": {},
   "outputs": [
    {
     "name": "stdout",
     "output_type": "stream",
     "text": [
      "There are 186 unique countries\n"
     ]
    }
   ],
   "source": [
    "unique_countries = data['Country'].unique()\n",
    "print(f'There are {len(unique_countries)} unique countries')"
   ]
  },
  {
   "cell_type": "markdown",
   "id": "c5dda6e0-de5d-45d6-8066-98623c4b5ced",
   "metadata": {},
   "source": [
    "<!--\n",
    "## Change Log\n",
    "|Date (YYYY-MM-DD)|Version|Changed By|Change Description|\n",
    "|-|-|-|-|\n",
    "|2024-10-29|3.0|Madhusudhan|Updated lab|\n",
    "|2024-09-23|2.0|Madhusudhan|Updated lab|\n",
    "|2024-09-22|1.0|Raghul Ramesh|Created lab|\n",
    "--!>\n"
   ]
  }
 ],
 "metadata": {
  "kernelspec": {
   "display_name": ".venv (3.11.9)",
   "language": "python",
   "name": "python3"
  },
  "language_info": {
   "codemirror_mode": {
    "name": "ipython",
    "version": 3
   },
   "file_extension": ".py",
   "mimetype": "text/x-python",
   "name": "python",
   "nbconvert_exporter": "python",
   "pygments_lexer": "ipython3",
   "version": "3.11.9"
  },
  "prev_pub_hash": "bedd3aee3a13510f42e8f2d452448a778151a18ce4b7e4d854c4c56f9dea7a3b"
 },
 "nbformat": 4,
 "nbformat_minor": 4
}
