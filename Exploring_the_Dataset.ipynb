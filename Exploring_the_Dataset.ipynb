{
 "cells": [
  {
   "cell_type": "markdown",
   "id": "a73eb1b4",
   "metadata": {
    "papermill": {
     "duration": 0.006624,
     "end_time": "2025-09-01T20:36:48.857722",
     "exception": false,
     "start_time": "2025-09-01T20:36:48.851098",
     "status": "completed"
    },
    "tags": []
   },
   "source": [
    "# **Exploring the Dataset**\n"
   ]
  },
  {
   "cell_type": "markdown",
   "id": "e412ce97",
   "metadata": {
    "papermill": {
     "duration": 0.006382,
     "end_time": "2025-09-01T20:36:48.869230",
     "exception": false,
     "start_time": "2025-09-01T20:36:48.862848",
     "status": "completed"
    },
    "tags": []
   },
   "source": [
    "## Repository\n",
    "\n",
    "Check out the repository on [GitHub](https://github.com/FaiLuReH3Ro/exploring-dataset)."
   ]
  },
  {
   "cell_type": "markdown",
   "id": "a2892e2e",
   "metadata": {
    "papermill": {
     "duration": 0.006485,
     "end_time": "2025-09-01T20:36:48.882530",
     "exception": false,
     "start_time": "2025-09-01T20:36:48.876045",
     "status": "completed"
    },
    "tags": []
   },
   "source": [
    "## Objectives\n",
    "\n",
    "-   Read the dataset into a dataframe\n",
    "-   Exploring some of the data using pandas"
   ]
  },
  {
   "cell_type": "markdown",
   "id": "8f78170a",
   "metadata": {
    "papermill": {
     "duration": 0.005971,
     "end_time": "2025-09-01T20:36:48.893801",
     "exception": false,
     "start_time": "2025-09-01T20:36:48.887830",
     "status": "completed"
    },
    "tags": []
   },
   "source": [
    "## Load the dataset\n"
   ]
  },
  {
   "cell_type": "markdown",
   "id": "134787cb",
   "metadata": {
    "papermill": {
     "duration": 0.005218,
     "end_time": "2025-09-01T20:36:48.904116",
     "exception": false,
     "start_time": "2025-09-01T20:36:48.898898",
     "status": "completed"
    },
    "tags": []
   },
   "source": [
    "Import the required libraries.\n"
   ]
  },
  {
   "cell_type": "code",
   "execution_count": 1,
   "id": "acbf4d5c",
   "metadata": {
    "execution": {
     "iopub.execute_input": "2025-09-01T20:36:48.913323Z",
     "iopub.status.busy": "2025-09-01T20:36:48.913012Z",
     "iopub.status.idle": "2025-09-01T20:36:50.639479Z",
     "shell.execute_reply": "2025-09-01T20:36:50.638687Z"
    },
    "papermill": {
     "duration": 1.732916,
     "end_time": "2025-09-01T20:36:50.641202",
     "exception": false,
     "start_time": "2025-09-01T20:36:48.908286",
     "status": "completed"
    },
    "tags": []
   },
   "outputs": [],
   "source": [
    "import pandas as pd"
   ]
  },
  {
   "cell_type": "markdown",
   "id": "c322d4cb",
   "metadata": {
    "papermill": {
     "duration": 0.003578,
     "end_time": "2025-09-01T20:36:50.648952",
     "exception": false,
     "start_time": "2025-09-01T20:36:50.645374",
     "status": "completed"
    },
    "tags": []
   },
   "source": [
    "The dataset is available on the IBM Cloud at the below url.\n"
   ]
  },
  {
   "cell_type": "code",
   "execution_count": 2,
   "id": "8bb22a0f",
   "metadata": {
    "execution": {
     "iopub.execute_input": "2025-09-01T20:36:50.658823Z",
     "iopub.status.busy": "2025-09-01T20:36:50.658405Z",
     "iopub.status.idle": "2025-09-01T20:36:50.662383Z",
     "shell.execute_reply": "2025-09-01T20:36:50.661712Z"
    },
    "papermill": {
     "duration": 0.010946,
     "end_time": "2025-09-01T20:36:50.663661",
     "exception": false,
     "start_time": "2025-09-01T20:36:50.652715",
     "status": "completed"
    },
    "tags": []
   },
   "outputs": [],
   "source": [
    "dataset_url = \"https://cf-courses-data.s3.us.cloud-object-storage.appdomain.cloud/n01PQ9pSmiRX6520flujwQ/survey-data.csv\""
   ]
  },
  {
   "cell_type": "markdown",
   "id": "1c5ff226",
   "metadata": {
    "papermill": {
     "duration": 0.00366,
     "end_time": "2025-09-01T20:36:50.671446",
     "exception": false,
     "start_time": "2025-09-01T20:36:50.667786",
     "status": "completed"
    },
    "tags": []
   },
   "source": [
    "Load the data into a dataframe.\n"
   ]
  },
  {
   "cell_type": "code",
   "execution_count": 3,
   "id": "5615bdc2",
   "metadata": {
    "execution": {
     "iopub.execute_input": "2025-09-01T20:36:50.680323Z",
     "iopub.status.busy": "2025-09-01T20:36:50.679996Z",
     "iopub.status.idle": "2025-09-01T20:36:55.092194Z",
     "shell.execute_reply": "2025-09-01T20:36:55.091401Z"
    },
    "papermill": {
     "duration": 4.418641,
     "end_time": "2025-09-01T20:36:55.093936",
     "exception": false,
     "start_time": "2025-09-01T20:36:50.675295",
     "status": "completed"
    },
    "tags": []
   },
   "outputs": [],
   "source": [
    "data = pd.read_csv(dataset_url)"
   ]
  },
  {
   "cell_type": "markdown",
   "id": "ffd7208a",
   "metadata": {
    "papermill": {
     "duration": 0.003752,
     "end_time": "2025-09-01T20:36:55.101865",
     "exception": false,
     "start_time": "2025-09-01T20:36:55.098113",
     "status": "completed"
    },
    "tags": []
   },
   "source": [
    "## Explore the dataset\n"
   ]
  },
  {
   "cell_type": "markdown",
   "id": "985a8822",
   "metadata": {
    "papermill": {
     "duration": 0.003598,
     "end_time": "2025-09-01T20:36:55.109444",
     "exception": false,
     "start_time": "2025-09-01T20:36:55.105846",
     "status": "completed"
    },
    "tags": []
   },
   "source": [
    "Display the top 5 rows and columns from the dataset.\n"
   ]
  },
  {
   "cell_type": "code",
   "execution_count": 4,
   "id": "240edaa2",
   "metadata": {
    "execution": {
     "iopub.execute_input": "2025-09-01T20:36:55.118366Z",
     "iopub.status.busy": "2025-09-01T20:36:55.117760Z",
     "iopub.status.idle": "2025-09-01T20:36:55.155274Z",
     "shell.execute_reply": "2025-09-01T20:36:55.154353Z"
    },
    "papermill": {
     "duration": 0.043533,
     "end_time": "2025-09-01T20:36:55.156657",
     "exception": false,
     "start_time": "2025-09-01T20:36:55.113124",
     "status": "completed"
    },
    "tags": []
   },
   "outputs": [
    {
     "name": "stderr",
     "output_type": "stream",
     "text": [
      "/usr/local/lib/python3.11/dist-packages/pandas/io/formats/format.py:1458: RuntimeWarning: invalid value encountered in greater\n",
      "  has_large_values = (abs_vals > 1e6).any()\n",
      "/usr/local/lib/python3.11/dist-packages/pandas/io/formats/format.py:1459: RuntimeWarning: invalid value encountered in less\n",
      "  has_small_values = ((abs_vals < 10 ** (-self.digits)) & (abs_vals > 0)).any()\n",
      "/usr/local/lib/python3.11/dist-packages/pandas/io/formats/format.py:1459: RuntimeWarning: invalid value encountered in greater\n",
      "  has_small_values = ((abs_vals < 10 ** (-self.digits)) & (abs_vals > 0)).any()\n",
      "/usr/local/lib/python3.11/dist-packages/pandas/io/formats/format.py:1458: RuntimeWarning: invalid value encountered in greater\n",
      "  has_large_values = (abs_vals > 1e6).any()\n",
      "/usr/local/lib/python3.11/dist-packages/pandas/io/formats/format.py:1459: RuntimeWarning: invalid value encountered in less\n",
      "  has_small_values = ((abs_vals < 10 ** (-self.digits)) & (abs_vals > 0)).any()\n",
      "/usr/local/lib/python3.11/dist-packages/pandas/io/formats/format.py:1459: RuntimeWarning: invalid value encountered in greater\n",
      "  has_small_values = ((abs_vals < 10 ** (-self.digits)) & (abs_vals > 0)).any()\n"
     ]
    },
    {
     "data": {
      "text/html": [
       "<div>\n",
       "<style scoped>\n",
       "    .dataframe tbody tr th:only-of-type {\n",
       "        vertical-align: middle;\n",
       "    }\n",
       "\n",
       "    .dataframe tbody tr th {\n",
       "        vertical-align: top;\n",
       "    }\n",
       "\n",
       "    .dataframe thead th {\n",
       "        text-align: right;\n",
       "    }\n",
       "</style>\n",
       "<table border=\"1\" class=\"dataframe\">\n",
       "  <thead>\n",
       "    <tr style=\"text-align: right;\">\n",
       "      <th></th>\n",
       "      <th>ResponseId</th>\n",
       "      <th>MainBranch</th>\n",
       "      <th>Age</th>\n",
       "      <th>Employment</th>\n",
       "      <th>RemoteWork</th>\n",
       "      <th>Check</th>\n",
       "      <th>CodingActivities</th>\n",
       "      <th>EdLevel</th>\n",
       "      <th>LearnCode</th>\n",
       "      <th>LearnCodeOnline</th>\n",
       "      <th>...</th>\n",
       "      <th>JobSatPoints_6</th>\n",
       "      <th>JobSatPoints_7</th>\n",
       "      <th>JobSatPoints_8</th>\n",
       "      <th>JobSatPoints_9</th>\n",
       "      <th>JobSatPoints_10</th>\n",
       "      <th>JobSatPoints_11</th>\n",
       "      <th>SurveyLength</th>\n",
       "      <th>SurveyEase</th>\n",
       "      <th>ConvertedCompYearly</th>\n",
       "      <th>JobSat</th>\n",
       "    </tr>\n",
       "  </thead>\n",
       "  <tbody>\n",
       "    <tr>\n",
       "      <th>0</th>\n",
       "      <td>1</td>\n",
       "      <td>I am a developer by profession</td>\n",
       "      <td>Under 18 years old</td>\n",
       "      <td>Employed, full-time</td>\n",
       "      <td>Remote</td>\n",
       "      <td>Apples</td>\n",
       "      <td>Hobby</td>\n",
       "      <td>Primary/elementary school</td>\n",
       "      <td>Books / Physical media</td>\n",
       "      <td>NaN</td>\n",
       "      <td>...</td>\n",
       "      <td>NaN</td>\n",
       "      <td>NaN</td>\n",
       "      <td>NaN</td>\n",
       "      <td>NaN</td>\n",
       "      <td>NaN</td>\n",
       "      <td>NaN</td>\n",
       "      <td>NaN</td>\n",
       "      <td>NaN</td>\n",
       "      <td>NaN</td>\n",
       "      <td>NaN</td>\n",
       "    </tr>\n",
       "    <tr>\n",
       "      <th>1</th>\n",
       "      <td>2</td>\n",
       "      <td>I am a developer by profession</td>\n",
       "      <td>35-44 years old</td>\n",
       "      <td>Employed, full-time</td>\n",
       "      <td>Remote</td>\n",
       "      <td>Apples</td>\n",
       "      <td>Hobby;Contribute to open-source projects;Other...</td>\n",
       "      <td>Bachelor’s degree (B.A., B.S., B.Eng., etc.)</td>\n",
       "      <td>Books / Physical media;Colleague;On the job tr...</td>\n",
       "      <td>Technical documentation;Blogs;Books;Written Tu...</td>\n",
       "      <td>...</td>\n",
       "      <td>0.0</td>\n",
       "      <td>0.0</td>\n",
       "      <td>0.0</td>\n",
       "      <td>0.0</td>\n",
       "      <td>0.0</td>\n",
       "      <td>0.0</td>\n",
       "      <td>NaN</td>\n",
       "      <td>NaN</td>\n",
       "      <td>NaN</td>\n",
       "      <td>NaN</td>\n",
       "    </tr>\n",
       "    <tr>\n",
       "      <th>2</th>\n",
       "      <td>3</td>\n",
       "      <td>I am a developer by profession</td>\n",
       "      <td>45-54 years old</td>\n",
       "      <td>Employed, full-time</td>\n",
       "      <td>Remote</td>\n",
       "      <td>Apples</td>\n",
       "      <td>Hobby;Contribute to open-source projects;Other...</td>\n",
       "      <td>Master’s degree (M.A., M.S., M.Eng., MBA, etc.)</td>\n",
       "      <td>Books / Physical media;Colleague;On the job tr...</td>\n",
       "      <td>Technical documentation;Blogs;Books;Written Tu...</td>\n",
       "      <td>...</td>\n",
       "      <td>NaN</td>\n",
       "      <td>NaN</td>\n",
       "      <td>NaN</td>\n",
       "      <td>NaN</td>\n",
       "      <td>NaN</td>\n",
       "      <td>NaN</td>\n",
       "      <td>Appropriate in length</td>\n",
       "      <td>Easy</td>\n",
       "      <td>NaN</td>\n",
       "      <td>NaN</td>\n",
       "    </tr>\n",
       "    <tr>\n",
       "      <th>3</th>\n",
       "      <td>4</td>\n",
       "      <td>I am learning to code</td>\n",
       "      <td>18-24 years old</td>\n",
       "      <td>Student, full-time</td>\n",
       "      <td>NaN</td>\n",
       "      <td>Apples</td>\n",
       "      <td>NaN</td>\n",
       "      <td>Some college/university study without earning ...</td>\n",
       "      <td>Other online resources (e.g., videos, blogs, f...</td>\n",
       "      <td>Stack Overflow;How-to videos;Interactive tutorial</td>\n",
       "      <td>...</td>\n",
       "      <td>NaN</td>\n",
       "      <td>NaN</td>\n",
       "      <td>NaN</td>\n",
       "      <td>NaN</td>\n",
       "      <td>NaN</td>\n",
       "      <td>NaN</td>\n",
       "      <td>Too long</td>\n",
       "      <td>Easy</td>\n",
       "      <td>NaN</td>\n",
       "      <td>NaN</td>\n",
       "    </tr>\n",
       "    <tr>\n",
       "      <th>4</th>\n",
       "      <td>5</td>\n",
       "      <td>I am a developer by profession</td>\n",
       "      <td>18-24 years old</td>\n",
       "      <td>Student, full-time</td>\n",
       "      <td>NaN</td>\n",
       "      <td>Apples</td>\n",
       "      <td>NaN</td>\n",
       "      <td>Secondary school (e.g. American high school, G...</td>\n",
       "      <td>Other online resources (e.g., videos, blogs, f...</td>\n",
       "      <td>Technical documentation;Blogs;Written Tutorial...</td>\n",
       "      <td>...</td>\n",
       "      <td>NaN</td>\n",
       "      <td>NaN</td>\n",
       "      <td>NaN</td>\n",
       "      <td>NaN</td>\n",
       "      <td>NaN</td>\n",
       "      <td>NaN</td>\n",
       "      <td>Too short</td>\n",
       "      <td>Easy</td>\n",
       "      <td>NaN</td>\n",
       "      <td>NaN</td>\n",
       "    </tr>\n",
       "  </tbody>\n",
       "</table>\n",
       "<p>5 rows × 114 columns</p>\n",
       "</div>"
      ],
      "text/plain": [
       "   ResponseId                      MainBranch                 Age  \\\n",
       "0           1  I am a developer by profession  Under 18 years old   \n",
       "1           2  I am a developer by profession     35-44 years old   \n",
       "2           3  I am a developer by profession     45-54 years old   \n",
       "3           4           I am learning to code     18-24 years old   \n",
       "4           5  I am a developer by profession     18-24 years old   \n",
       "\n",
       "            Employment RemoteWork   Check  \\\n",
       "0  Employed, full-time     Remote  Apples   \n",
       "1  Employed, full-time     Remote  Apples   \n",
       "2  Employed, full-time     Remote  Apples   \n",
       "3   Student, full-time        NaN  Apples   \n",
       "4   Student, full-time        NaN  Apples   \n",
       "\n",
       "                                    CodingActivities  \\\n",
       "0                                              Hobby   \n",
       "1  Hobby;Contribute to open-source projects;Other...   \n",
       "2  Hobby;Contribute to open-source projects;Other...   \n",
       "3                                                NaN   \n",
       "4                                                NaN   \n",
       "\n",
       "                                             EdLevel  \\\n",
       "0                          Primary/elementary school   \n",
       "1       Bachelor’s degree (B.A., B.S., B.Eng., etc.)   \n",
       "2    Master’s degree (M.A., M.S., M.Eng., MBA, etc.)   \n",
       "3  Some college/university study without earning ...   \n",
       "4  Secondary school (e.g. American high school, G...   \n",
       "\n",
       "                                           LearnCode  \\\n",
       "0                             Books / Physical media   \n",
       "1  Books / Physical media;Colleague;On the job tr...   \n",
       "2  Books / Physical media;Colleague;On the job tr...   \n",
       "3  Other online resources (e.g., videos, blogs, f...   \n",
       "4  Other online resources (e.g., videos, blogs, f...   \n",
       "\n",
       "                                     LearnCodeOnline  ... JobSatPoints_6  \\\n",
       "0                                                NaN  ...            NaN   \n",
       "1  Technical documentation;Blogs;Books;Written Tu...  ...            0.0   \n",
       "2  Technical documentation;Blogs;Books;Written Tu...  ...            NaN   \n",
       "3  Stack Overflow;How-to videos;Interactive tutorial  ...            NaN   \n",
       "4  Technical documentation;Blogs;Written Tutorial...  ...            NaN   \n",
       "\n",
       "  JobSatPoints_7 JobSatPoints_8 JobSatPoints_9 JobSatPoints_10  \\\n",
       "0            NaN            NaN            NaN             NaN   \n",
       "1            0.0            0.0            0.0             0.0   \n",
       "2            NaN            NaN            NaN             NaN   \n",
       "3            NaN            NaN            NaN             NaN   \n",
       "4            NaN            NaN            NaN             NaN   \n",
       "\n",
       "  JobSatPoints_11           SurveyLength SurveyEase ConvertedCompYearly JobSat  \n",
       "0             NaN                    NaN        NaN                 NaN    NaN  \n",
       "1             0.0                    NaN        NaN                 NaN    NaN  \n",
       "2             NaN  Appropriate in length       Easy                 NaN    NaN  \n",
       "3             NaN               Too long       Easy                 NaN    NaN  \n",
       "4             NaN              Too short       Easy                 NaN    NaN  \n",
       "\n",
       "[5 rows x 114 columns]"
      ]
     },
     "execution_count": 4,
     "metadata": {},
     "output_type": "execute_result"
    }
   ],
   "source": [
    "data.head()"
   ]
  },
  {
   "cell_type": "markdown",
   "id": "6885a28d",
   "metadata": {
    "papermill": {
     "duration": 0.004168,
     "end_time": "2025-09-01T20:36:55.165512",
     "exception": false,
     "start_time": "2025-09-01T20:36:55.161344",
     "status": "completed"
    },
    "tags": []
   },
   "source": [
    "## Finding out the number of rows and columns\n"
   ]
  },
  {
   "cell_type": "markdown",
   "id": "ae4b4bd7",
   "metadata": {
    "papermill": {
     "duration": 0.004018,
     "end_time": "2025-09-01T20:36:55.173698",
     "exception": false,
     "start_time": "2025-09-01T20:36:55.169680",
     "status": "completed"
    },
    "tags": []
   },
   "source": [
    "The number of rows in the dataset.\n"
   ]
  },
  {
   "cell_type": "code",
   "execution_count": 5,
   "id": "f6f16746",
   "metadata": {
    "execution": {
     "iopub.execute_input": "2025-09-01T20:36:55.183310Z",
     "iopub.status.busy": "2025-09-01T20:36:55.182987Z",
     "iopub.status.idle": "2025-09-01T20:36:55.187540Z",
     "shell.execute_reply": "2025-09-01T20:36:55.186555Z"
    },
    "papermill": {
     "duration": 0.010866,
     "end_time": "2025-09-01T20:36:55.188811",
     "exception": false,
     "start_time": "2025-09-01T20:36:55.177945",
     "status": "completed"
    },
    "tags": []
   },
   "outputs": [
    {
     "name": "stdout",
     "output_type": "stream",
     "text": [
      "There are 65437 rows\n"
     ]
    }
   ],
   "source": [
    "print(f'There are {data.shape[0]} rows')"
   ]
  },
  {
   "cell_type": "markdown",
   "id": "ece0b5f8",
   "metadata": {
    "papermill": {
     "duration": 0.004221,
     "end_time": "2025-09-01T20:36:55.197573",
     "exception": false,
     "start_time": "2025-09-01T20:36:55.193352",
     "status": "completed"
    },
    "tags": []
   },
   "source": [
    "The number of columns in the dataset.\n"
   ]
  },
  {
   "cell_type": "code",
   "execution_count": 6,
   "id": "32018760",
   "metadata": {
    "execution": {
     "iopub.execute_input": "2025-09-01T20:36:55.208190Z",
     "iopub.status.busy": "2025-09-01T20:36:55.207429Z",
     "iopub.status.idle": "2025-09-01T20:36:55.211966Z",
     "shell.execute_reply": "2025-09-01T20:36:55.211250Z"
    },
    "papermill": {
     "duration": 0.011224,
     "end_time": "2025-09-01T20:36:55.213301",
     "exception": false,
     "start_time": "2025-09-01T20:36:55.202077",
     "status": "completed"
    },
    "tags": []
   },
   "outputs": [
    {
     "name": "stdout",
     "output_type": "stream",
     "text": [
      "There are 114 columns\n"
     ]
    }
   ],
   "source": [
    "print(f'There are {data.shape[1]} columns')"
   ]
  },
  {
   "cell_type": "markdown",
   "id": "78a3463a",
   "metadata": {
    "papermill": {
     "duration": 0.004335,
     "end_time": "2025-09-01T20:36:55.222274",
     "exception": false,
     "start_time": "2025-09-01T20:36:55.217939",
     "status": "completed"
    },
    "tags": []
   },
   "source": [
    "## Identifying the data types of each column\n"
   ]
  },
  {
   "cell_type": "code",
   "execution_count": 7,
   "id": "8510c4d2",
   "metadata": {
    "execution": {
     "iopub.execute_input": "2025-09-01T20:36:55.232608Z",
     "iopub.status.busy": "2025-09-01T20:36:55.232069Z",
     "iopub.status.idle": "2025-09-01T20:36:55.235986Z",
     "shell.execute_reply": "2025-09-01T20:36:55.235216Z"
    },
    "papermill": {
     "duration": 0.01057,
     "end_time": "2025-09-01T20:36:55.237411",
     "exception": false,
     "start_time": "2025-09-01T20:36:55.226841",
     "status": "completed"
    },
    "tags": []
   },
   "outputs": [],
   "source": [
    "# Option to display all the rows in the dataframe\n",
    "pd.set_option('display.max_rows', None)"
   ]
  },
  {
   "cell_type": "markdown",
   "id": "007e31fd",
   "metadata": {
    "papermill": {
     "duration": 0.004522,
     "end_time": "2025-09-01T20:36:55.246673",
     "exception": false,
     "start_time": "2025-09-01T20:36:55.242151",
     "status": "completed"
    },
    "tags": []
   },
   "source": [
    "Displaying the datatype of all columns."
   ]
  },
  {
   "cell_type": "code",
   "execution_count": 8,
   "id": "8f208736",
   "metadata": {
    "execution": {
     "iopub.execute_input": "2025-09-01T20:36:55.257227Z",
     "iopub.status.busy": "2025-09-01T20:36:55.256800Z",
     "iopub.status.idle": "2025-09-01T20:36:55.264971Z",
     "shell.execute_reply": "2025-09-01T20:36:55.264143Z"
    },
    "papermill": {
     "duration": 0.014936,
     "end_time": "2025-09-01T20:36:55.266296",
     "exception": false,
     "start_time": "2025-09-01T20:36:55.251360",
     "status": "completed"
    },
    "tags": []
   },
   "outputs": [
    {
     "data": {
      "text/plain": [
       "ResponseId                          int64\n",
       "MainBranch                         object\n",
       "Age                                object\n",
       "Employment                         object\n",
       "RemoteWork                         object\n",
       "Check                              object\n",
       "CodingActivities                   object\n",
       "EdLevel                            object\n",
       "LearnCode                          object\n",
       "LearnCodeOnline                    object\n",
       "TechDoc                            object\n",
       "YearsCode                          object\n",
       "YearsCodePro                       object\n",
       "DevType                            object\n",
       "OrgSize                            object\n",
       "PurchaseInfluence                  object\n",
       "BuyNewTool                         object\n",
       "BuildvsBuy                         object\n",
       "TechEndorse                        object\n",
       "Country                            object\n",
       "Currency                           object\n",
       "CompTotal                         float64\n",
       "LanguageHaveWorkedWith             object\n",
       "LanguageWantToWorkWith             object\n",
       "LanguageAdmired                    object\n",
       "DatabaseHaveWorkedWith             object\n",
       "DatabaseWantToWorkWith             object\n",
       "DatabaseAdmired                    object\n",
       "PlatformHaveWorkedWith             object\n",
       "PlatformWantToWorkWith             object\n",
       "PlatformAdmired                    object\n",
       "WebframeHaveWorkedWith             object\n",
       "WebframeWantToWorkWith             object\n",
       "WebframeAdmired                    object\n",
       "EmbeddedHaveWorkedWith             object\n",
       "EmbeddedWantToWorkWith             object\n",
       "EmbeddedAdmired                    object\n",
       "MiscTechHaveWorkedWith             object\n",
       "MiscTechWantToWorkWith             object\n",
       "MiscTechAdmired                    object\n",
       "ToolsTechHaveWorkedWith            object\n",
       "ToolsTechWantToWorkWith            object\n",
       "ToolsTechAdmired                   object\n",
       "NEWCollabToolsHaveWorkedWith       object\n",
       "NEWCollabToolsWantToWorkWith       object\n",
       "NEWCollabToolsAdmired              object\n",
       "OpSysPersonal use                  object\n",
       "OpSysProfessional use              object\n",
       "OfficeStackAsyncHaveWorkedWith     object\n",
       "OfficeStackAsyncWantToWorkWith     object\n",
       "OfficeStackAsyncAdmired            object\n",
       "OfficeStackSyncHaveWorkedWith      object\n",
       "OfficeStackSyncWantToWorkWith      object\n",
       "OfficeStackSyncAdmired             object\n",
       "AISearchDevHaveWorkedWith          object\n",
       "AISearchDevWantToWorkWith          object\n",
       "AISearchDevAdmired                 object\n",
       "NEWSOSites                         object\n",
       "SOVisitFreq                        object\n",
       "SOAccount                          object\n",
       "SOPartFreq                         object\n",
       "SOHow                              object\n",
       "SOComm                             object\n",
       "AISelect                           object\n",
       "AISent                             object\n",
       "AIBen                              object\n",
       "AIAcc                              object\n",
       "AIComplex                          object\n",
       "AIToolCurrently Using              object\n",
       "AIToolInterested in Using          object\n",
       "AIToolNot interested in Using      object\n",
       "AINextMuch more integrated         object\n",
       "AINextNo change                    object\n",
       "AINextMore integrated              object\n",
       "AINextLess integrated              object\n",
       "AINextMuch less integrated         object\n",
       "AIThreat                           object\n",
       "AIEthics                           object\n",
       "AIChallenges                       object\n",
       "TBranch                            object\n",
       "ICorPM                             object\n",
       "WorkExp                           float64\n",
       "Knowledge_1                        object\n",
       "Knowledge_2                        object\n",
       "Knowledge_3                        object\n",
       "Knowledge_4                        object\n",
       "Knowledge_5                        object\n",
       "Knowledge_6                        object\n",
       "Knowledge_7                        object\n",
       "Knowledge_8                        object\n",
       "Knowledge_9                        object\n",
       "Frequency_1                        object\n",
       "Frequency_2                        object\n",
       "Frequency_3                        object\n",
       "TimeSearching                      object\n",
       "TimeAnswering                      object\n",
       "Frustration                        object\n",
       "ProfessionalTech                   object\n",
       "ProfessionalCloud                  object\n",
       "ProfessionalQuestion               object\n",
       "Industry                           object\n",
       "JobSatPoints_1                    float64\n",
       "JobSatPoints_4                    float64\n",
       "JobSatPoints_5                    float64\n",
       "JobSatPoints_6                    float64\n",
       "JobSatPoints_7                    float64\n",
       "JobSatPoints_8                    float64\n",
       "JobSatPoints_9                    float64\n",
       "JobSatPoints_10                   float64\n",
       "JobSatPoints_11                   float64\n",
       "SurveyLength                       object\n",
       "SurveyEase                         object\n",
       "ConvertedCompYearly               float64\n",
       "JobSat                            float64\n",
       "dtype: object"
      ]
     },
     "execution_count": 8,
     "metadata": {},
     "output_type": "execute_result"
    }
   ],
   "source": [
    "data.dtypes"
   ]
  },
  {
   "cell_type": "markdown",
   "id": "8d15ee03",
   "metadata": {
    "papermill": {
     "duration": 0.004679,
     "end_time": "2025-09-01T20:36:55.275922",
     "exception": false,
     "start_time": "2025-09-01T20:36:55.271243",
     "status": "completed"
    },
    "tags": []
   },
   "source": [
    "## Finding the most frequent age range in the survey\n"
   ]
  },
  {
   "cell_type": "code",
   "execution_count": 9,
   "id": "dfb4c4f7",
   "metadata": {
    "execution": {
     "iopub.execute_input": "2025-09-01T20:36:55.287102Z",
     "iopub.status.busy": "2025-09-01T20:36:55.286278Z",
     "iopub.status.idle": "2025-09-01T20:36:55.306191Z",
     "shell.execute_reply": "2025-09-01T20:36:55.305398Z"
    },
    "papermill": {
     "duration": 0.026888,
     "end_time": "2025-09-01T20:36:55.307486",
     "exception": false,
     "start_time": "2025-09-01T20:36:55.280598",
     "status": "completed"
    },
    "tags": []
   },
   "outputs": [
    {
     "data": {
      "text/plain": [
       "count               65437\n",
       "unique                  8\n",
       "top       25-34 years old\n",
       "freq                23911\n",
       "Name: Age, dtype: object"
      ]
     },
     "execution_count": 9,
     "metadata": {},
     "output_type": "execute_result"
    }
   ],
   "source": [
    "data['Age'].describe()\n"
   ]
  },
  {
   "cell_type": "code",
   "execution_count": 10,
   "id": "0e3d300f",
   "metadata": {
    "execution": {
     "iopub.execute_input": "2025-09-01T20:36:55.319067Z",
     "iopub.status.busy": "2025-09-01T20:36:55.318317Z",
     "iopub.status.idle": "2025-09-01T20:36:55.329673Z",
     "shell.execute_reply": "2025-09-01T20:36:55.328880Z"
    },
    "papermill": {
     "duration": 0.018429,
     "end_time": "2025-09-01T20:36:55.330961",
     "exception": false,
     "start_time": "2025-09-01T20:36:55.312532",
     "status": "completed"
    },
    "tags": []
   },
   "outputs": [
    {
     "data": {
      "text/plain": [
       "Age\n",
       "25-34 years old       23911\n",
       "35-44 years old       14942\n",
       "18-24 years old       14098\n",
       "45-54 years old        6249\n",
       "55-64 years old        2575\n",
       "Under 18 years old     2568\n",
       "65 years or older       772\n",
       "Prefer not to say       322\n",
       "Name: count, dtype: int64"
      ]
     },
     "execution_count": 10,
     "metadata": {},
     "output_type": "execute_result"
    }
   ],
   "source": [
    "data['Age'].value_counts()"
   ]
  },
  {
   "cell_type": "markdown",
   "id": "151d9674",
   "metadata": {
    "papermill": {
     "duration": 0.004935,
     "end_time": "2025-09-01T20:36:55.340949",
     "exception": false,
     "start_time": "2025-09-01T20:36:55.336014",
     "status": "completed"
    },
    "tags": []
   },
   "source": [
    "Based on the `describe()` and `value_counts()` methods, it seems like most people who participated in the survey is from `25-34 years old`."
   ]
  },
  {
   "cell_type": "markdown",
   "id": "46ff8339",
   "metadata": {
    "papermill": {
     "duration": 0.004741,
     "end_time": "2025-09-01T20:36:55.350665",
     "exception": false,
     "start_time": "2025-09-01T20:36:55.345924",
     "status": "completed"
    },
    "tags": []
   },
   "source": [
    "## Finding the average age "
   ]
  },
  {
   "cell_type": "code",
   "execution_count": 11,
   "id": "2bdd521e",
   "metadata": {
    "execution": {
     "iopub.execute_input": "2025-09-01T20:36:55.361807Z",
     "iopub.status.busy": "2025-09-01T20:36:55.361512Z",
     "iopub.status.idle": "2025-09-01T20:36:55.366630Z",
     "shell.execute_reply": "2025-09-01T20:36:55.365868Z"
    },
    "papermill": {
     "duration": 0.012313,
     "end_time": "2025-09-01T20:36:55.367965",
     "exception": false,
     "start_time": "2025-09-01T20:36:55.355652",
     "status": "completed"
    },
    "tags": []
   },
   "outputs": [],
   "source": [
    "# Defining a function to apply to 'Age' column\n",
    "def avg_age(data):\n",
    "\n",
    "    # Split the strings by the hyphen\n",
    "    split = data.split('-')\n",
    "\n",
    "    # Applying the calculation on strings with a hyphen\n",
    "    if len(split) == 2:\n",
    "\n",
    "        # Getting rid of 'years old'\n",
    "        split[1] = split[1].replace(\"years old\", \"\")\n",
    "\n",
    "        # Retrieving the low and high ranges\n",
    "        l = int(split[0])\n",
    "        h = int(split[1])\n",
    "\n",
    "        # Calculating the middle\n",
    "        middle = (l + h) / 2\n",
    "\n",
    "        return middle\n",
    "    else:\n",
    "        return None"
   ]
  },
  {
   "cell_type": "markdown",
   "id": "76b21c14",
   "metadata": {
    "papermill": {
     "duration": 0.005043,
     "end_time": "2025-09-01T20:36:55.378474",
     "exception": false,
     "start_time": "2025-09-01T20:36:55.373431",
     "status": "completed"
    },
    "tags": []
   },
   "source": [
    "Applying the function and calculating the mean"
   ]
  },
  {
   "cell_type": "code",
   "execution_count": 12,
   "id": "8040561d",
   "metadata": {
    "execution": {
     "iopub.execute_input": "2025-09-01T20:36:55.389810Z",
     "iopub.status.busy": "2025-09-01T20:36:55.389509Z",
     "iopub.status.idle": "2025-09-01T20:36:55.445934Z",
     "shell.execute_reply": "2025-09-01T20:36:55.444970Z"
    },
    "papermill": {
     "duration": 0.063899,
     "end_time": "2025-09-01T20:36:55.447406",
     "exception": false,
     "start_time": "2025-09-01T20:36:55.383507",
     "status": "completed"
    },
    "tags": []
   },
   "outputs": [
    {
     "name": "stdout",
     "output_type": "stream",
     "text": [
      "The average age is around 33.3 years old.\n"
     ]
    }
   ],
   "source": [
    "average_age = data['Age'].apply(avg_age).mean()\n",
    "age = float(round(average_age, 1))\n",
    "print(f'The average age is around {age} years old.')"
   ]
  },
  {
   "cell_type": "markdown",
   "id": "b8553758",
   "metadata": {
    "papermill": {
     "duration": 0.004945,
     "end_time": "2025-09-01T20:36:55.457846",
     "exception": false,
     "start_time": "2025-09-01T20:36:55.452901",
     "status": "completed"
    },
    "tags": []
   },
   "source": [
    "\n",
    "## Finding the number of unique countries "
   ]
  },
  {
   "cell_type": "code",
   "execution_count": 13,
   "id": "047aa01c",
   "metadata": {
    "execution": {
     "iopub.execute_input": "2025-09-01T20:36:55.469478Z",
     "iopub.status.busy": "2025-09-01T20:36:55.469165Z",
     "iopub.status.idle": "2025-09-01T20:36:55.477249Z",
     "shell.execute_reply": "2025-09-01T20:36:55.476360Z"
    },
    "papermill": {
     "duration": 0.015853,
     "end_time": "2025-09-01T20:36:55.478754",
     "exception": false,
     "start_time": "2025-09-01T20:36:55.462901",
     "status": "completed"
    },
    "tags": []
   },
   "outputs": [
    {
     "name": "stdout",
     "output_type": "stream",
     "text": [
      "There are 186 unique countries\n"
     ]
    }
   ],
   "source": [
    "unique_countries = data['Country'].unique()\n",
    "print(f'There are {len(unique_countries)} unique countries')"
   ]
  },
  {
   "cell_type": "markdown",
   "id": "bd5b00c6",
   "metadata": {
    "papermill": {
     "duration": 0.005006,
     "end_time": "2025-09-01T20:36:55.489127",
     "exception": false,
     "start_time": "2025-09-01T20:36:55.484121",
     "status": "completed"
    },
    "tags": []
   },
   "source": [
    "<!--\n",
    "## Change Log\n",
    "|Date (YYYY-MM-DD)|Version|Changed By|Change Description|\n",
    "|-|-|-|-|\n",
    "|2024-10-29|3.0|Madhusudhan|Updated lab|\n",
    "|2024-09-23|2.0|Madhusudhan|Updated lab|\n",
    "|2024-09-22|1.0|Raghul Ramesh|Created lab|\n",
    "--!>\n"
   ]
  }
 ],
 "metadata": {
  "kaggle": {
   "accelerator": "none",
   "dataSources": [],
   "dockerImageVersionId": 31089,
   "isGpuEnabled": false,
   "isInternetEnabled": true,
   "language": "python",
   "sourceType": "notebook"
  },
  "kernelspec": {
   "display_name": "Python 3",
   "language": "python",
   "name": "python3"
  },
  "language_info": {
   "codemirror_mode": {
    "name": "ipython",
    "version": 3
   },
   "file_extension": ".py",
   "mimetype": "text/x-python",
   "name": "python",
   "nbconvert_exporter": "python",
   "pygments_lexer": "ipython3",
   "version": "3.11.13"
  },
  "papermill": {
   "default_parameters": {},
   "duration": 12.028647,
   "end_time": "2025-09-01T20:36:56.013132",
   "environment_variables": {},
   "exception": null,
   "input_path": "__notebook__.ipynb",
   "output_path": "__notebook__.ipynb",
   "parameters": {},
   "start_time": "2025-09-01T20:36:43.984485",
   "version": "2.6.0"
  },
  "prev_pub_hash": "bedd3aee3a13510f42e8f2d452448a778151a18ce4b7e4d854c4c56f9dea7a3b"
 },
 "nbformat": 4,
 "nbformat_minor": 5
}
